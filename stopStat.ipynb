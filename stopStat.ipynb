{
 "cells": [
  {
   "cell_type": "code",
   "execution_count": 1,
   "metadata": {},
   "outputs": [],
   "source": [
    "import os\n",
    "import pandas as pd\n",
    "import numpy as np"
   ]
  },
  {
   "cell_type": "code",
   "execution_count": 2,
   "metadata": {},
   "outputs": [],
   "source": [
    "os.chdir(\"/Users/Ellen/Documents/Dokumenter/DTU/7. Semester/Bachelor\")\n",
    "\n",
    "#load data\n",
    "data = \"data.csv\"\n",
    "df =  pd.read_csv(data)"
   ]
  },
  {
   "cell_type": "code",
   "execution_count": 3,
   "metadata": {
    "scrolled": false
   },
   "outputs": [
    {
     "data": {
      "text/html": [
       "<div>\n",
       "<style scoped>\n",
       "    .dataframe tbody tr th:only-of-type {\n",
       "        vertical-align: middle;\n",
       "    }\n",
       "\n",
       "    .dataframe tbody tr th {\n",
       "        vertical-align: top;\n",
       "    }\n",
       "\n",
       "    .dataframe thead th {\n",
       "        text-align: right;\n",
       "    }\n",
       "</style>\n",
       "<table border=\"1\" class=\"dataframe\">\n",
       "  <thead>\n",
       "    <tr style=\"text-align: right;\">\n",
       "      <th></th>\n",
       "      <th>userId</th>\n",
       "      <th>incrementalId</th>\n",
       "      <th>POIId</th>\n",
       "      <th>weekday</th>\n",
       "      <th>hour</th>\n",
       "      <th>minutes_spent</th>\n",
       "      <th>stop_type</th>\n",
       "      <th>name1_fs</th>\n",
       "      <th>name2_fs</th>\n",
       "    </tr>\n",
       "  </thead>\n",
       "  <tbody>\n",
       "    <tr>\n",
       "      <th>0</th>\n",
       "      <td>0</td>\n",
       "      <td>1</td>\n",
       "      <td>NaN</td>\n",
       "      <td>4</td>\n",
       "      <td>0</td>\n",
       "      <td>1881.216667</td>\n",
       "      <td>home</td>\n",
       "      <td>NaN</td>\n",
       "      <td>NaN</td>\n",
       "    </tr>\n",
       "    <tr>\n",
       "      <th>1</th>\n",
       "      <td>0</td>\n",
       "      <td>2</td>\n",
       "      <td>NaN</td>\n",
       "      <td>5</td>\n",
       "      <td>8</td>\n",
       "      <td>40.400000</td>\n",
       "      <td>other</td>\n",
       "      <td>NaN</td>\n",
       "      <td>NaN</td>\n",
       "    </tr>\n",
       "    <tr>\n",
       "      <th>2</th>\n",
       "      <td>0</td>\n",
       "      <td>3</td>\n",
       "      <td>1.202591e+12</td>\n",
       "      <td>5</td>\n",
       "      <td>10</td>\n",
       "      <td>77.350000</td>\n",
       "      <td>poi</td>\n",
       "      <td>Shop &amp; Service</td>\n",
       "      <td>Tailor Shop</td>\n",
       "    </tr>\n",
       "    <tr>\n",
       "      <th>3</th>\n",
       "      <td>0</td>\n",
       "      <td>4</td>\n",
       "      <td>NaN</td>\n",
       "      <td>5</td>\n",
       "      <td>11</td>\n",
       "      <td>376.450000</td>\n",
       "      <td>home</td>\n",
       "      <td>NaN</td>\n",
       "      <td>NaN</td>\n",
       "    </tr>\n",
       "    <tr>\n",
       "      <th>4</th>\n",
       "      <td>0</td>\n",
       "      <td>5</td>\n",
       "      <td>1.202591e+12</td>\n",
       "      <td>5</td>\n",
       "      <td>18</td>\n",
       "      <td>5.216667</td>\n",
       "      <td>poi</td>\n",
       "      <td>Shop &amp; Service</td>\n",
       "      <td>Tailor Shop</td>\n",
       "    </tr>\n",
       "    <tr>\n",
       "      <th>...</th>\n",
       "      <td>...</td>\n",
       "      <td>...</td>\n",
       "      <td>...</td>\n",
       "      <td>...</td>\n",
       "      <td>...</td>\n",
       "      <td>...</td>\n",
       "      <td>...</td>\n",
       "      <td>...</td>\n",
       "      <td>...</td>\n",
       "    </tr>\n",
       "    <tr>\n",
       "      <th>20071654</th>\n",
       "      <td>403726927905</td>\n",
       "      <td>61</td>\n",
       "      <td>NaN</td>\n",
       "      <td>6</td>\n",
       "      <td>8</td>\n",
       "      <td>5.083333</td>\n",
       "      <td>home</td>\n",
       "      <td>NaN</td>\n",
       "      <td>NaN</td>\n",
       "    </tr>\n",
       "    <tr>\n",
       "      <th>20071655</th>\n",
       "      <td>403726927905</td>\n",
       "      <td>62</td>\n",
       "      <td>1.537598e+12</td>\n",
       "      <td>6</td>\n",
       "      <td>9</td>\n",
       "      <td>63.316667</td>\n",
       "      <td>poi</td>\n",
       "      <td>Professional &amp; Other Places</td>\n",
       "      <td>School</td>\n",
       "    </tr>\n",
       "    <tr>\n",
       "      <th>20071656</th>\n",
       "      <td>403726927905</td>\n",
       "      <td>63</td>\n",
       "      <td>NaN</td>\n",
       "      <td>6</td>\n",
       "      <td>11</td>\n",
       "      <td>233.016667</td>\n",
       "      <td>home</td>\n",
       "      <td>NaN</td>\n",
       "      <td>NaN</td>\n",
       "    </tr>\n",
       "    <tr>\n",
       "      <th>20071657</th>\n",
       "      <td>403726927905</td>\n",
       "      <td>64</td>\n",
       "      <td>NaN</td>\n",
       "      <td>6</td>\n",
       "      <td>18</td>\n",
       "      <td>1609.166667</td>\n",
       "      <td>home</td>\n",
       "      <td>NaN</td>\n",
       "      <td>NaN</td>\n",
       "    </tr>\n",
       "    <tr>\n",
       "      <th>20071658</th>\n",
       "      <td>403726927905</td>\n",
       "      <td>65</td>\n",
       "      <td>NaN</td>\n",
       "      <td>7</td>\n",
       "      <td>22</td>\n",
       "      <td>2595.416667</td>\n",
       "      <td>home</td>\n",
       "      <td>NaN</td>\n",
       "      <td>NaN</td>\n",
       "    </tr>\n",
       "  </tbody>\n",
       "</table>\n",
       "<p>20071659 rows × 9 columns</p>\n",
       "</div>"
      ],
      "text/plain": [
       "                userId  incrementalId         POIId  weekday  hour  \\\n",
       "0                    0              1           NaN        4     0   \n",
       "1                    0              2           NaN        5     8   \n",
       "2                    0              3  1.202591e+12        5    10   \n",
       "3                    0              4           NaN        5    11   \n",
       "4                    0              5  1.202591e+12        5    18   \n",
       "...                ...            ...           ...      ...   ...   \n",
       "20071654  403726927905             61           NaN        6     8   \n",
       "20071655  403726927905             62  1.537598e+12        6     9   \n",
       "20071656  403726927905             63           NaN        6    11   \n",
       "20071657  403726927905             64           NaN        6    18   \n",
       "20071658  403726927905             65           NaN        7    22   \n",
       "\n",
       "          minutes_spent stop_type                     name1_fs     name2_fs  \n",
       "0           1881.216667      home                          NaN          NaN  \n",
       "1             40.400000     other                          NaN          NaN  \n",
       "2             77.350000       poi               Shop & Service  Tailor Shop  \n",
       "3            376.450000      home                          NaN          NaN  \n",
       "4              5.216667       poi               Shop & Service  Tailor Shop  \n",
       "...                 ...       ...                          ...          ...  \n",
       "20071654       5.083333      home                          NaN          NaN  \n",
       "20071655      63.316667       poi  Professional & Other Places       School  \n",
       "20071656     233.016667      home                          NaN          NaN  \n",
       "20071657    1609.166667      home                          NaN          NaN  \n",
       "20071658    2595.416667      home                          NaN          NaN  \n",
       "\n",
       "[20071659 rows x 9 columns]"
      ]
     },
     "execution_count": 3,
     "metadata": {},
     "output_type": "execute_result"
    }
   ],
   "source": [
    "df"
   ]
  },
  {
   "cell_type": "code",
   "execution_count": 4,
   "metadata": {},
   "outputs": [],
   "source": [
    "#list with the users\n",
    "users = df['userId'].unique().tolist()"
   ]
  },
  {
   "cell_type": "code",
   "execution_count": 5,
   "metadata": {},
   "outputs": [],
   "source": [
    "#number of stops for each user\n",
    "stop = df.groupby(['userId']).count()['incrementalId'].reset_index()"
   ]
  },
  {
   "cell_type": "code",
   "execution_count": 6,
   "metadata": {},
   "outputs": [],
   "source": [
    "#number of stops for each stop type for each user\n",
    "stopTypeCount = df.groupby(['userId', 'stop_type']).count()['incrementalId'].unstack().fillna(0)"
   ]
  },
  {
   "cell_type": "code",
   "execution_count": 7,
   "metadata": {},
   "outputs": [],
   "source": [
    "#number of stops at home\n",
    "homeStop = stopTypeCount.iloc[:,0]"
   ]
  },
  {
   "cell_type": "code",
   "execution_count": 8,
   "metadata": {},
   "outputs": [],
   "source": [
    "#number of stops at other\n",
    "otherStop = stopTypeCount.iloc[:,1]"
   ]
  },
  {
   "cell_type": "code",
   "execution_count": 9,
   "metadata": {},
   "outputs": [],
   "source": [
    "#number of stops at POI's\n",
    "poiStop = stopTypeCount.iloc[:,2]"
   ]
  },
  {
   "cell_type": "code",
   "execution_count": 10,
   "metadata": {},
   "outputs": [],
   "source": [
    "#number of stops at work\n",
    "workStop = stopTypeCount.iloc[:,3]"
   ]
  },
  {
   "cell_type": "code",
   "execution_count": 11,
   "metadata": {},
   "outputs": [
    {
     "data": {
      "text/plain": [
       "216.46670764850523"
      ]
     },
     "execution_count": 11,
     "metadata": {},
     "output_type": "execute_result"
    }
   ],
   "source": [
    "#Average number of stops in total\n",
    "sum(stopTypeCount.sum())/len(stopTypeCount)"
   ]
  },
  {
   "cell_type": "code",
   "execution_count": 12,
   "metadata": {
    "scrolled": true
   },
   "outputs": [
    {
     "data": {
      "text/plain": [
       "82.04373193563694"
      ]
     },
     "execution_count": 12,
     "metadata": {},
     "output_type": "execute_result"
    }
   ],
   "source": [
    "#Average number of stops at home\n",
    "sum(homeStop)/len(stopTypeCount)"
   ]
  },
  {
   "cell_type": "code",
   "execution_count": 13,
   "metadata": {},
   "outputs": [
    {
     "data": {
      "text/plain": [
       "38.474677537638584"
      ]
     },
     "execution_count": 13,
     "metadata": {},
     "output_type": "execute_result"
    }
   ],
   "source": [
    "#Average number of stops at other\n",
    "sum(otherStop)/len(stopTypeCount)"
   ]
  },
  {
   "cell_type": "code",
   "execution_count": 14,
   "metadata": {},
   "outputs": [
    {
     "data": {
      "text/plain": [
       "59.15836245200811"
      ]
     },
     "execution_count": 14,
     "metadata": {},
     "output_type": "execute_result"
    }
   ],
   "source": [
    "#average number of stop at POI\n",
    "sum(poiStop)/len(stopTypeCount)"
   ]
  },
  {
   "cell_type": "code",
   "execution_count": 15,
   "metadata": {},
   "outputs": [
    {
     "data": {
      "text/plain": [
       "36.7899357232216"
      ]
     },
     "execution_count": 15,
     "metadata": {},
     "output_type": "execute_result"
    }
   ],
   "source": [
    "#Average number of stops at work\n",
    "sum(workStop)/len(stopTypeCount)"
   ]
  },
  {
   "cell_type": "code",
   "execution_count": 16,
   "metadata": {},
   "outputs": [
    {
     "name": "stdout",
     "output_type": "stream",
     "text": [
      "60.0\n",
      "1256.0\n"
     ]
    }
   ],
   "source": [
    "#min number of stops(all stop)\n",
    "print(min(stopTypeCount.sum(axis=1)))\n",
    "\n",
    "#max number of stops(all stop)\n",
    "print(max(stopTypeCount.sum(axis=1)))"
   ]
  },
  {
   "cell_type": "code",
   "execution_count": 17,
   "metadata": {},
   "outputs": [
    {
     "name": "stdout",
     "output_type": "stream",
     "text": [
      "0.0\n",
      "1176.0\n"
     ]
    }
   ],
   "source": [
    "#min number of stops at home\n",
    "print(min(homeStop))\n",
    "\n",
    "#max number of stops at home\n",
    "print(max(homeStop))"
   ]
  },
  {
   "cell_type": "code",
   "execution_count": 18,
   "metadata": {},
   "outputs": [
    {
     "name": "stdout",
     "output_type": "stream",
     "text": [
      "0.0\n",
      "640.0\n"
     ]
    }
   ],
   "source": [
    "#min number of stops at other\n",
    "print(min(otherStop))\n",
    "\n",
    "#max number of stops at other\n",
    "print(max(otherStop))"
   ]
  },
  {
   "cell_type": "code",
   "execution_count": 19,
   "metadata": {},
   "outputs": [
    {
     "name": "stdout",
     "output_type": "stream",
     "text": [
      "0.0\n",
      "646.0\n"
     ]
    }
   ],
   "source": [
    "#min number of stops at POI\n",
    "print(min(poiStop))\n",
    "\n",
    "#max number of stops at POI\n",
    "print(max(poiStop))"
   ]
  },
  {
   "cell_type": "code",
   "execution_count": 20,
   "metadata": {},
   "outputs": [
    {
     "name": "stdout",
     "output_type": "stream",
     "text": [
      "0.0\n",
      "608.0\n"
     ]
    }
   ],
   "source": [
    "#min number of stops at work\n",
    "print(min(workStop))\n",
    "\n",
    "#max number of stops at work\n",
    "print(max(workStop))"
   ]
  },
  {
   "cell_type": "code",
   "execution_count": 21,
   "metadata": {},
   "outputs": [
    {
     "name": "stdout",
     "output_type": "stream",
     "text": [
      "max:\n",
      "60908\n",
      "60908\n",
      "19725\n",
      "74105\n",
      "66880\n",
      "min:\n",
      "1464\n",
      "965\n",
      "220\n",
      "1082\n",
      "2\n"
     ]
    }
   ],
   "source": [
    "#The index of the users with min and max\n",
    "\n",
    "print('max:')\n",
    "#max number of stops(all stop)\n",
    "print(np.argmax(stopTypeCount.sum(axis=1)))\n",
    "\n",
    "#max number of stops at home\n",
    "print(np.argmax(homeStop))\n",
    "\n",
    "#max number of stops at other\n",
    "print(np.argmax(otherStop))\n",
    "\n",
    "#max number of stops at POI\n",
    "print(np.argmax(poiStop))\n",
    "\n",
    "#max number of stops at work\n",
    "print(np.argmax(workStop))\n",
    "\n",
    "print('min:')\n",
    "#min number of stops(all stop)\n",
    "print(np.argmin(stopTypeCount.sum(axis=1)))\n",
    "\n",
    "#min number of stops at home\n",
    "print(np.argmin(homeStop))\n",
    "\n",
    "#min number of stops at other\n",
    "print(np.argmin(otherStop))\n",
    "\n",
    "#min number of stops at POI\n",
    "print(np.argmin(poiStop))\n",
    "\n",
    "#min number of stops at work\n",
    "print(np.argmin(workStop))"
   ]
  },
  {
   "cell_type": "code",
   "execution_count": 22,
   "metadata": {},
   "outputs": [
    {
     "data": {
      "text/plain": [
       "97"
      ]
     },
     "execution_count": 22,
     "metadata": {},
     "output_type": "execute_result"
    }
   ],
   "source": [
    "#the number of users, that does not have a stop at home\n",
    "len(users) - len(df[df.stop_type == 'home'].groupby('userId').count())"
   ]
  },
  {
   "cell_type": "code",
   "execution_count": 23,
   "metadata": {},
   "outputs": [
    {
     "data": {
      "text/plain": [
       "1550"
      ]
     },
     "execution_count": 23,
     "metadata": {},
     "output_type": "execute_result"
    }
   ],
   "source": [
    "#the number of users, that does not have a stop at other\n",
    "len(users) - len(df[df.stop_type == 'other'].groupby('userId').count())"
   ]
  },
  {
   "cell_type": "code",
   "execution_count": 24,
   "metadata": {},
   "outputs": [
    {
     "data": {
      "text/plain": [
       "149"
      ]
     },
     "execution_count": 24,
     "metadata": {},
     "output_type": "execute_result"
    }
   ],
   "source": [
    "#the number of users, that does not have a stop at POI\n",
    "len(users) - len(df[df.stop_type == 'poi'].groupby('userId').count())"
   ]
  },
  {
   "cell_type": "code",
   "execution_count": 25,
   "metadata": {},
   "outputs": [
    {
     "data": {
      "text/plain": [
       "15647"
      ]
     },
     "execution_count": 25,
     "metadata": {},
     "output_type": "execute_result"
    }
   ],
   "source": [
    "#the number of users, that does not have a stop at work\n",
    "len(users) - len(df[df.stop_type == 'work'].groupby('userId').count())"
   ]
  }
 ],
 "metadata": {
  "kernelspec": {
   "display_name": "Python 3",
   "language": "python",
   "name": "python3"
  },
  "language_info": {
   "codemirror_mode": {
    "name": "ipython",
    "version": 3
   },
   "file_extension": ".py",
   "mimetype": "text/x-python",
   "name": "python",
   "nbconvert_exporter": "python",
   "pygments_lexer": "ipython3",
   "version": "3.7.6"
  }
 },
 "nbformat": 4,
 "nbformat_minor": 4
}
