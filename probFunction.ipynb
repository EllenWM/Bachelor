{
 "cells": [
  {
   "cell_type": "code",
   "execution_count": 1,
   "metadata": {},
   "outputs": [],
   "source": [
    "import os\n",
    "import pandas as pd\n",
    "import numpy as np"
   ]
  },
  {
   "cell_type": "code",
   "execution_count": 2,
   "metadata": {},
   "outputs": [],
   "source": [
    "def prob(userStart, userEnd):\n",
    "\n",
    "    #read data\n",
    "    os.chdir(\"/Users/Ellen/Documents/Dokumenter/DTU/7. Semester/Bachelor\")\n",
    "\n",
    "    data = \"data.csv\"\n",
    "    df =  pd.read_csv(data)\n",
    "    \n",
    "    #read POInames and bigram\n",
    "    os.chdir(\"/Users/Ellen/Documents/Dokumenter/DTU/7. Semester/Bachelor/CSV files\")\n",
    "\n",
    "    poiNames = pd.read_csv(\"POInames.csv\")\n",
    "    bigram = pd.read_csv(\"userBigram.csv\")\n",
    "    \n",
    "    user = bigram.userId.unique().tolist()[userStart:userEnd] #user\n",
    "    \n",
    "    data = [['home'], ['work'], ['other']]\n",
    " \n",
    "    # Create the pandas DataFrame\n",
    "    stopdf = pd.DataFrame(data, columns = ['StopName'])\n",
    "    \n",
    "    #Names for all stops (both POI and home, work, other)\n",
    "    stopNames = pd.concat([stopdf, poiNames])\n",
    "    #.reset_index(drop=True)\n",
    "    \n",
    "    #initialize vector p to contain probability\n",
    "    p = np.zeros((len(stopNames), len(user)))\n",
    "    \n",
    "    for i in user:\n",
    "        userBigram = bigram[bigram.userId == i] #bigram for each user\n",
    "        start = len(userBigram[userBigram.Stops.str.contains(\"home,\", case=False)]) #finds number of stops that start at home\n",
    "        if start > 0: #if they go from home to another place at any point\n",
    "            for j, row in enumerate(stopNames.itertuples(), 0): #for loop, j starting at 0'\n",
    "                stop = 'home,' + row.StopName #finds home,cat\n",
    "                bigrams = len(userBigram[userBigram.Stops == stop]) #finds number of home,cat for each category\n",
    "                p[j, user.index(i)] = bigrams/start #finds probability(n(home,cat)/n(home))\n",
    "\n",
    "    return(p)"
   ]
  }
 ],
 "metadata": {
  "kernelspec": {
   "display_name": "Python 3",
   "language": "python",
   "name": "python3"
  },
  "language_info": {
   "codemirror_mode": {
    "name": "ipython",
    "version": 3
   },
   "file_extension": ".py",
   "mimetype": "text/x-python",
   "name": "python",
   "nbconvert_exporter": "python",
   "pygments_lexer": "ipython3",
   "version": "3.7.6"
  }
 },
 "nbformat": 4,
 "nbformat_minor": 4
}
