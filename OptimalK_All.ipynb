{
 "cells": [
  {
   "cell_type": "code",
   "execution_count": 1,
   "metadata": {},
   "outputs": [],
   "source": [
    "import os\n",
    "import pandas as pd\n",
    "import numpy as np\n",
    "from sklearn.cluster import KMeans\n",
    "import math"
   ]
  },
  {
   "cell_type": "code",
   "execution_count": 2,
   "metadata": {},
   "outputs": [],
   "source": [
    "#os.chdir(\"c:/Users/prebe/Documents/Ellen/Bachelor/Ellen - bachelor\")\n",
    "os.chdir(\"/Users/Ellen/Documents/Dokumenter/DTU/7. Semester/Bachelor/CSV files\")\n",
    "\n",
    "poiNames = pd.read_csv(\"POInames.csv\")\n",
    "dfProb = pd.read_csv(\"ProbAll.csv\")"
   ]
  },
  {
   "cell_type": "code",
   "execution_count": 3,
   "metadata": {},
   "outputs": [],
   "source": [
    "poiStop = poiNames['StopName'].tolist()\n",
    "stop = ['home','work','other']\n",
    "\n",
    "#List with all stops\n",
    "stop.extend(poiStop)"
   ]
  },
  {
   "cell_type": "code",
   "execution_count": 4,
   "metadata": {},
   "outputs": [],
   "source": [
    "#probability dataframe to matrix\n",
    "p = dfProb.to_numpy()"
   ]
  },
  {
   "cell_type": "code",
   "execution_count": 5,
   "metadata": {},
   "outputs": [],
   "source": [
    "#selected stops\n",
    "stopSelect = ['home', 'work', 'other', 'School', 'Restaurant', 'University', 'Bar', 'Train Station']"
   ]
  },
  {
   "cell_type": "code",
   "execution_count": 6,
   "metadata": {},
   "outputs": [],
   "source": [
    "#stopIndex of the 10 most probable stops from home\n",
    "stopIndex = dfProb.sum(axis=0).nlargest(10).index"
   ]
  },
  {
   "cell_type": "code",
   "execution_count": 7,
   "metadata": {},
   "outputs": [],
   "source": [
    "#name of the 10 most probable stops from home\n",
    "largeStop = []\n",
    "\n",
    "for i in range(0,len(stopIndex)):\n",
    "    largeStop.append(stop[int(stopIndex[i])])"
   ]
  },
  {
   "cell_type": "code",
   "execution_count": 8,
   "metadata": {},
   "outputs": [],
   "source": [
    "#merge the two lists with the selected stops and the most probable stops\n",
    "stopSelect.extend(largeStop)"
   ]
  },
  {
   "cell_type": "code",
   "execution_count": 9,
   "metadata": {},
   "outputs": [],
   "source": [
    "#unique stops from the selected and most probable stops. \n",
    "#this is the stops that will be used to the clustering\n",
    "StopList = list(set(stopSelect))"
   ]
  },
  {
   "cell_type": "code",
   "execution_count": 10,
   "metadata": {},
   "outputs": [],
   "source": [
    "#the index of the stops that should be used for the clustering\n",
    "StopIndex = []\n",
    "for i in range(0, len(StopList)):\n",
    "    StopIndex.append(stop.index(StopList[i]))"
   ]
  },
  {
   "cell_type": "code",
   "execution_count": 11,
   "metadata": {},
   "outputs": [],
   "source": [
    "#probability matrix with all users, and the selected stop types\n",
    "pSelect = p[:,StopIndex]"
   ]
  },
  {
   "cell_type": "code",
   "execution_count": 12,
   "metadata": {},
   "outputs": [],
   "source": [
    "#pselect to dataframe and save as csv\n",
    "pd.DataFrame(pSelect).to_csv('pSelectAll.csv', index = False)"
   ]
  },
  {
   "cell_type": "code",
   "execution_count": 13,
   "metadata": {},
   "outputs": [],
   "source": [
    "#StopList(the names) to dataframe and save as csv\n",
    "pd.DataFrame(StopList).rename(columns={0: 'Stop'}).to_csv('StopListAll.csv', index = False)"
   ]
  },
  {
   "cell_type": "code",
   "execution_count": 14,
   "metadata": {},
   "outputs": [],
   "source": [
    "#set seed\n",
    "# Gap Statistic for K means\n",
    "def optimalK(data, nrefs, maxClusters):\n",
    "    \"\"\"\n",
    "    Calculates KMeans optimal K using Gap Statistic \n",
    "    Params:\n",
    "        data: ndarry of shape (n_samples, n_features)\n",
    "        nrefs: number of sample reference datasets to create\n",
    "        maxClusters: Maximum number of clusters to test for\n",
    "    Returns: (gaps, optimalK)\n",
    "    \"\"\"\n",
    "    gaps = np.zeros((len(range(1, maxClusters+1)),))\n",
    "    resultsdf = pd.DataFrame({'clusterCount':[], 'gap':[], 's_k':[], 'gap-s_k':[]})\n",
    "    for gap_index, k in enumerate(range(1, maxClusters+1)):\n",
    "\n",
    "# Holder for reference dispersion results\n",
    "        refDisps = np.zeros(nrefs)\n",
    "\n",
    "# For n references, generate random sample and perform kmeans getting resulting dispersion of each loop\n",
    "        for i in range(nrefs):\n",
    "            \n",
    "            # Create new random reference set\n",
    "            randomReference = np.zeros(np.shape(data))\n",
    "            for j in range (0,np.shape(data)[1]):\n",
    "                low = min(data[:,j])\n",
    "                high = max(data[:,j])\n",
    "                randomReference[:,j] = np.random.uniform(low, high, size=len(data))        \n",
    "            \n",
    "            # Fit to it\n",
    "            km = KMeans(k)\n",
    "            km.fit(randomReference)\n",
    "            \n",
    "            #refDisp \n",
    "            refDisps[i] = km.inertia_\n",
    "              \n",
    "\n",
    "# Fit cluster to original data and create dispersion\n",
    "        km = KMeans(k)\n",
    "        km.fit(data)\n",
    "        \n",
    "        origDisp = km.inertia_\n",
    "# Calculate gap statistic\n",
    "        gap = (1/nrefs)*np.sum(np.log(refDisps)) - np.log(origDisp)\n",
    "        l =(1/nrefs)*np.sum(np.log(refDisps))\n",
    "        sd_k = ((1/nrefs)*np.sum((np.log(refDisps)-l)**2))**(1/2)\n",
    "        s_k = sd_k*math.sqrt(1+1/nrefs)\n",
    "        print(k, \" Gap: \", gap, \" s_k \", s_k)\n",
    "        \n",
    "# Assign this loop's gap statistic to gaps\n",
    "        gaps[gap_index] = gap\n",
    "    \n",
    "        resultsdf = resultsdf.append({'clusterCount':k, 'gap':gap, 's_k':s_k, 'gap-s_k':gap-s_k, 'wss':origDisp}, ignore_index=True)\n",
    "    return (gaps.argmax() + 1, resultsdf)"
   ]
  },
  {
   "cell_type": "code",
   "execution_count": 15,
   "metadata": {},
   "outputs": [
    {
     "name": "stdout",
     "output_type": "stream",
     "text": [
      "1  Gap:  2.2826736639383878  s_k  0.0008892802933626516\n",
      "2  Gap:  2.486367613057281  s_k  0.0008401478152215065\n",
      "3  Gap:  2.6729046763736166  s_k  0.0009578735019962695\n",
      "4  Gap:  2.743581018942563  s_k  0.0008368050537743966\n",
      "5  Gap:  2.7946569544009483  s_k  0.0009053829338503559\n",
      "6  Gap:  2.8417193052865866  s_k  0.0005342239021583859\n",
      "7  Gap:  2.880734453681069  s_k  0.0006726206289313435\n",
      "8  Gap:  2.9084729550736164  s_k  0.0007222163492862555\n",
      "9  Gap:  2.9431786003155223  s_k  0.0010487309008755563\n",
      "10  Gap:  2.9725031948076426  s_k  0.001048195165588094\n",
      "11  Gap:  2.999133222988802  s_k  0.0013130578589738372\n",
      "12  Gap:  3.0240722865365184  s_k  0.0016825700611424804\n",
      "13  Gap:  3.0474699177228075  s_k  0.0010431319076596394\n",
      "14  Gap:  3.0684982798752944  s_k  0.001157816667712867\n",
      "15  Gap:  3.086037239920553  s_k  0.0009312969944849591\n",
      "16  Gap:  3.098172698769461  s_k  0.0019728215490728424\n",
      "17  Gap:  3.112027185764134  s_k  0.001053950961062558\n",
      "18  Gap:  3.127778233291984  s_k  0.0008400554699110571\n",
      "19  Gap:  3.138549530074709  s_k  0.0008430363222574534\n",
      "20  Gap:  3.154269724872657  s_k  0.0010282190413050361\n",
      "21  Gap:  3.1673659272055037  s_k  0.0008166229395514721\n",
      "22  Gap:  3.1788424325969045  s_k  0.0010513976028375073\n",
      "23  Gap:  3.191496722684408  s_k  0.0010620441700478443\n",
      "24  Gap:  3.199531780660501  s_k  0.0006994327983953385\n",
      "25  Gap:  3.2076367234505074  s_k  0.0007930532083377463\n",
      "26  Gap:  3.214175460199778  s_k  0.0008580143031679877\n",
      "27  Gap:  3.2222751989446774  s_k  0.0009953419796823527\n",
      "28  Gap:  3.229823038936039  s_k  0.001069098096397825\n",
      "29  Gap:  3.235753838930159  s_k  0.0008552426932706078\n",
      "30  Gap:  3.2423263015459183  s_k  0.0007596715212608863\n",
      "31  Gap:  3.2473601213465733  s_k  0.0005647702606167963\n",
      "32  Gap:  3.252566522809362  s_k  0.0011079434597790613\n",
      "33  Gap:  3.2575378743383423  s_k  0.0009655277519268593\n",
      "34  Gap:  3.263646630357699  s_k  0.000665643509534623\n",
      "35  Gap:  3.27034100065388  s_k  0.000872243509928468\n",
      "36  Gap:  3.2773170466858206  s_k  0.0007379906345653322\n",
      "37  Gap:  3.281793451232046  s_k  0.0007490846906120179\n",
      "38  Gap:  3.287200779176448  s_k  0.0005991921309003102\n",
      "39  Gap:  3.294379863024208  s_k  0.0008317837365888388\n",
      "40  Gap:  3.301266941613463  s_k  0.0009904418593636064\n",
      "41  Gap:  3.3055418664047194  s_k  0.001116406365517306\n",
      "42  Gap:  3.310068719650639  s_k  0.0008775919632269111\n",
      "43  Gap:  3.3193984269006345  s_k  0.0009204065907856274\n",
      "44  Gap:  3.3259133294574887  s_k  0.0007260631030526797\n",
      "45  Gap:  3.3284190717434408  s_k  0.0009478109376834208\n",
      "46  Gap:  3.331015782958459  s_k  0.000880103583129054\n",
      "47  Gap:  3.3380645813250363  s_k  0.0007300787150798491\n",
      "48  Gap:  3.342533601992111  s_k  0.0008342242388973237\n",
      "49  Gap:  3.3471353850790226  s_k  0.0008087468027420252\n",
      "50  Gap:  3.34928256974334  s_k  0.0009582626245318183\n",
      "51  Gap:  3.354704888520243  s_k  0.0008691079650247689\n",
      "52  Gap:  3.3575534595216867  s_k  0.0007523258459761672\n",
      "53  Gap:  3.3626497097226906  s_k  0.0010548741479428777\n",
      "54  Gap:  3.3650805754858943  s_k  0.0008119949092077713\n",
      "55  Gap:  3.367777271109267  s_k  0.0010624448784765247\n",
      "56  Gap:  3.372139451266259  s_k  0.0008189116634753223\n",
      "57  Gap:  3.3721011611361273  s_k  0.0008179742868180381\n",
      "58  Gap:  3.3765730446526128  s_k  0.000845990428173948\n",
      "59  Gap:  3.3794366101905338  s_k  0.0011861704918566577\n",
      "60  Gap:  3.384301587134611  s_k  0.0010307734027700383\n",
      "61  Gap:  3.384670046683927  s_k  0.000961556995061551\n",
      "62  Gap:  3.3853155132142234  s_k  0.001080899857448069\n",
      "63  Gap:  3.389690705036614  s_k  0.001526390123881638\n",
      "64  Gap:  3.391888129570945  s_k  0.0018653988386636102\n",
      "65  Gap:  3.3959158855488436  s_k  0.0015168722289205917\n",
      "66  Gap:  3.3975316681241114  s_k  0.0015544037776352825\n",
      "67  Gap:  3.4007122587620398  s_k  0.001278931263854506\n",
      "68  Gap:  3.402060706044587  s_k  0.0015482287759122\n",
      "69  Gap:  3.4036595191227654  s_k  0.0013005898446472907\n",
      "70  Gap:  3.4069151089684713  s_k  0.0008940500092206964\n",
      "71  Gap:  3.4095198736256895  s_k  0.0008429474425984531\n",
      "72  Gap:  3.414201898422829  s_k  0.0015327851048788262\n",
      "73  Gap:  3.4149961483214017  s_k  0.0009739152900927368\n",
      "74  Gap:  3.417631365494471  s_k  0.0011509491741143146\n",
      "75  Gap:  3.4200193833808443  s_k  0.0009332628777504173\n",
      "76  Gap:  3.4215410729126114  s_k  0.0006953163661575613\n",
      "77  Gap:  3.425004885457672  s_k  0.0008643665267167845\n",
      "78  Gap:  3.4270947590389396  s_k  0.0009741935127901285\n",
      "79  Gap:  3.430406702747425  s_k  0.0011329359120720616\n",
      "80  Gap:  3.4312279990361825  s_k  0.0009181220201943487\n"
     ]
    }
   ],
   "source": [
    "score_g, df = optimalK(pSelect, nrefs=20, maxClusters=80)"
   ]
  },
  {
   "cell_type": "code",
   "execution_count": 16,
   "metadata": {},
   "outputs": [],
   "source": [
    "np.savetxt('gapSelectAll.csv', df, delimiter=\",\")"
   ]
  },
  {
   "cell_type": "code",
   "execution_count": 17,
   "metadata": {},
   "outputs": [
    {
     "data": {
      "text/plain": [
       "[56, 60, 61, 67, 72, 79]"
      ]
     },
     "execution_count": 17,
     "metadata": {},
     "output_type": "execute_result"
    }
   ],
   "source": [
    "#find the number of clusters, where gap(k) >= gap(k+1)-s_k\n",
    "#gap1\n",
    "cluster = []\n",
    "for i in range(df.shape[0]-1):\n",
    "    if df['gap'][i] >= df['gap-s_k'][i+1]:\n",
    "        cluster.append(i+1)\n",
    "        \n",
    "cluster"
   ]
  }
 ],
 "metadata": {
  "kernelspec": {
   "display_name": "Python 3",
   "language": "python",
   "name": "python3"
  },
  "language_info": {
   "codemirror_mode": {
    "name": "ipython",
    "version": 3
   },
   "file_extension": ".py",
   "mimetype": "text/x-python",
   "name": "python",
   "nbconvert_exporter": "python",
   "pygments_lexer": "ipython3",
   "version": "3.7.6"
  }
 },
 "nbformat": 4,
 "nbformat_minor": 4
}
