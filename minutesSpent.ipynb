{
 "cells": [
  {
   "cell_type": "code",
   "execution_count": 1,
   "metadata": {},
   "outputs": [],
   "source": [
    "import os\n",
    "import pandas as pd\n",
    "import matplotlib.pyplot as plt\n",
    "plt.rcParams['figure.figsize'] = [20, 10]\n",
    "import seaborn as sns\n",
    "sns.set()\n",
    "import numpy as np\n",
    "sns.set_theme()\n",
    "sns.set_style(\"whitegrid\")\n",
    "sns.set_context(\"poster\", font_scale = 1.2)"
   ]
  },
  {
   "cell_type": "code",
   "execution_count": 2,
   "metadata": {},
   "outputs": [],
   "source": [
    "os.chdir(\"/Users/Ellen/Documents/Dokumenter/DTU/7. Semester/Bachelor\")\n",
    "\n",
    "#load data\n",
    "df =  pd.read_csv('dfData.csv')"
   ]
  },
  {
   "cell_type": "code",
   "execution_count": 3,
   "metadata": {},
   "outputs": [
    {
     "data": {
      "text/html": [
       "<div>\n",
       "<style scoped>\n",
       "    .dataframe tbody tr th:only-of-type {\n",
       "        vertical-align: middle;\n",
       "    }\n",
       "\n",
       "    .dataframe tbody tr th {\n",
       "        vertical-align: top;\n",
       "    }\n",
       "\n",
       "    .dataframe thead th {\n",
       "        text-align: right;\n",
       "    }\n",
       "</style>\n",
       "<table border=\"1\" class=\"dataframe\">\n",
       "  <thead>\n",
       "    <tr style=\"text-align: right;\">\n",
       "      <th></th>\n",
       "      <th>userId</th>\n",
       "      <th>incrementalId</th>\n",
       "      <th>POIId</th>\n",
       "      <th>weekday</th>\n",
       "      <th>hour</th>\n",
       "      <th>minutes_spent</th>\n",
       "      <th>stop_type</th>\n",
       "      <th>name1_fs</th>\n",
       "      <th>name2_fs</th>\n",
       "    </tr>\n",
       "  </thead>\n",
       "  <tbody>\n",
       "    <tr>\n",
       "      <th>0</th>\n",
       "      <td>0</td>\n",
       "      <td>1</td>\n",
       "      <td>NaN</td>\n",
       "      <td>4</td>\n",
       "      <td>0</td>\n",
       "      <td>1881.216667</td>\n",
       "      <td>home</td>\n",
       "      <td>NaN</td>\n",
       "      <td>NaN</td>\n",
       "    </tr>\n",
       "    <tr>\n",
       "      <th>1</th>\n",
       "      <td>0</td>\n",
       "      <td>2</td>\n",
       "      <td>NaN</td>\n",
       "      <td>5</td>\n",
       "      <td>8</td>\n",
       "      <td>40.400000</td>\n",
       "      <td>other</td>\n",
       "      <td>NaN</td>\n",
       "      <td>NaN</td>\n",
       "    </tr>\n",
       "    <tr>\n",
       "      <th>2</th>\n",
       "      <td>0</td>\n",
       "      <td>3</td>\n",
       "      <td>1.202591e+12</td>\n",
       "      <td>5</td>\n",
       "      <td>10</td>\n",
       "      <td>77.350000</td>\n",
       "      <td>poi</td>\n",
       "      <td>Shop &amp; Service</td>\n",
       "      <td>Tailor Shop</td>\n",
       "    </tr>\n",
       "    <tr>\n",
       "      <th>3</th>\n",
       "      <td>0</td>\n",
       "      <td>4</td>\n",
       "      <td>NaN</td>\n",
       "      <td>5</td>\n",
       "      <td>11</td>\n",
       "      <td>376.450000</td>\n",
       "      <td>home</td>\n",
       "      <td>NaN</td>\n",
       "      <td>NaN</td>\n",
       "    </tr>\n",
       "    <tr>\n",
       "      <th>4</th>\n",
       "      <td>0</td>\n",
       "      <td>5</td>\n",
       "      <td>1.202591e+12</td>\n",
       "      <td>5</td>\n",
       "      <td>18</td>\n",
       "      <td>5.216667</td>\n",
       "      <td>poi</td>\n",
       "      <td>Shop &amp; Service</td>\n",
       "      <td>Tailor Shop</td>\n",
       "    </tr>\n",
       "    <tr>\n",
       "      <th>...</th>\n",
       "      <td>...</td>\n",
       "      <td>...</td>\n",
       "      <td>...</td>\n",
       "      <td>...</td>\n",
       "      <td>...</td>\n",
       "      <td>...</td>\n",
       "      <td>...</td>\n",
       "      <td>...</td>\n",
       "      <td>...</td>\n",
       "    </tr>\n",
       "    <tr>\n",
       "      <th>20130765</th>\n",
       "      <td>403726927905</td>\n",
       "      <td>61</td>\n",
       "      <td>NaN</td>\n",
       "      <td>6</td>\n",
       "      <td>8</td>\n",
       "      <td>5.083333</td>\n",
       "      <td>home</td>\n",
       "      <td>NaN</td>\n",
       "      <td>NaN</td>\n",
       "    </tr>\n",
       "    <tr>\n",
       "      <th>20130766</th>\n",
       "      <td>403726927905</td>\n",
       "      <td>62</td>\n",
       "      <td>1.537598e+12</td>\n",
       "      <td>6</td>\n",
       "      <td>9</td>\n",
       "      <td>63.316667</td>\n",
       "      <td>poi</td>\n",
       "      <td>Professional &amp; Other Places</td>\n",
       "      <td>School</td>\n",
       "    </tr>\n",
       "    <tr>\n",
       "      <th>20130767</th>\n",
       "      <td>403726927905</td>\n",
       "      <td>63</td>\n",
       "      <td>NaN</td>\n",
       "      <td>6</td>\n",
       "      <td>11</td>\n",
       "      <td>233.016667</td>\n",
       "      <td>home</td>\n",
       "      <td>NaN</td>\n",
       "      <td>NaN</td>\n",
       "    </tr>\n",
       "    <tr>\n",
       "      <th>20130768</th>\n",
       "      <td>403726927905</td>\n",
       "      <td>64</td>\n",
       "      <td>NaN</td>\n",
       "      <td>6</td>\n",
       "      <td>18</td>\n",
       "      <td>1609.166667</td>\n",
       "      <td>home</td>\n",
       "      <td>NaN</td>\n",
       "      <td>NaN</td>\n",
       "    </tr>\n",
       "    <tr>\n",
       "      <th>20130769</th>\n",
       "      <td>403726927905</td>\n",
       "      <td>65</td>\n",
       "      <td>NaN</td>\n",
       "      <td>7</td>\n",
       "      <td>22</td>\n",
       "      <td>2595.416667</td>\n",
       "      <td>home</td>\n",
       "      <td>NaN</td>\n",
       "      <td>NaN</td>\n",
       "    </tr>\n",
       "  </tbody>\n",
       "</table>\n",
       "<p>20130770 rows × 9 columns</p>\n",
       "</div>"
      ],
      "text/plain": [
       "                userId  incrementalId         POIId  weekday  hour  \\\n",
       "0                    0              1           NaN        4     0   \n",
       "1                    0              2           NaN        5     8   \n",
       "2                    0              3  1.202591e+12        5    10   \n",
       "3                    0              4           NaN        5    11   \n",
       "4                    0              5  1.202591e+12        5    18   \n",
       "...                ...            ...           ...      ...   ...   \n",
       "20130765  403726927905             61           NaN        6     8   \n",
       "20130766  403726927905             62  1.537598e+12        6     9   \n",
       "20130767  403726927905             63           NaN        6    11   \n",
       "20130768  403726927905             64           NaN        6    18   \n",
       "20130769  403726927905             65           NaN        7    22   \n",
       "\n",
       "          minutes_spent stop_type                     name1_fs     name2_fs  \n",
       "0           1881.216667      home                          NaN          NaN  \n",
       "1             40.400000     other                          NaN          NaN  \n",
       "2             77.350000       poi               Shop & Service  Tailor Shop  \n",
       "3            376.450000      home                          NaN          NaN  \n",
       "4              5.216667       poi               Shop & Service  Tailor Shop  \n",
       "...                 ...       ...                          ...          ...  \n",
       "20130765       5.083333      home                          NaN          NaN  \n",
       "20130766      63.316667       poi  Professional & Other Places       School  \n",
       "20130767     233.016667      home                          NaN          NaN  \n",
       "20130768    1609.166667      home                          NaN          NaN  \n",
       "20130769    2595.416667      home                          NaN          NaN  \n",
       "\n",
       "[20130770 rows x 9 columns]"
      ]
     },
     "execution_count": 3,
     "metadata": {},
     "output_type": "execute_result"
    }
   ],
   "source": [
    "df"
   ]
  },
  {
   "cell_type": "code",
   "execution_count": 4,
   "metadata": {},
   "outputs": [],
   "source": [
    "user = df['userId'].unique().tolist()"
   ]
  },
  {
   "cell_type": "code",
   "execution_count": 5,
   "metadata": {},
   "outputs": [],
   "source": [
    "#minutes spent in total for each user\n",
    "minutesTotal = df.groupby('userId').sum()['minutes_spent'].reset_index()"
   ]
  },
  {
   "cell_type": "code",
   "execution_count": 6,
   "metadata": {},
   "outputs": [],
   "source": [
    "#minutes in the 2 months\n",
    "Nmin = 60*24*60"
   ]
  },
  {
   "cell_type": "code",
   "execution_count": 7,
   "metadata": {},
   "outputs": [],
   "source": [
    "#unexplained minutes(minutes, where it is not in the data where they are)\n",
    "minutesTotal['unexplained_min'] = Nmin-minutesTotal['minutes_spent']"
   ]
  },
  {
   "cell_type": "code",
   "execution_count": 8,
   "metadata": {},
   "outputs": [
    {
     "data": {
      "text/html": [
       "<div>\n",
       "<style scoped>\n",
       "    .dataframe tbody tr th:only-of-type {\n",
       "        vertical-align: middle;\n",
       "    }\n",
       "\n",
       "    .dataframe tbody tr th {\n",
       "        vertical-align: top;\n",
       "    }\n",
       "\n",
       "    .dataframe thead th {\n",
       "        text-align: right;\n",
       "    }\n",
       "</style>\n",
       "<table border=\"1\" class=\"dataframe\">\n",
       "  <thead>\n",
       "    <tr style=\"text-align: right;\">\n",
       "      <th></th>\n",
       "      <th>userId</th>\n",
       "      <th>minutes_spent</th>\n",
       "      <th>unexplained_min</th>\n",
       "    </tr>\n",
       "  </thead>\n",
       "  <tbody>\n",
       "    <tr>\n",
       "      <th>0</th>\n",
       "      <td>0</td>\n",
       "      <td>80723.600000</td>\n",
       "      <td>5676.400000</td>\n",
       "    </tr>\n",
       "    <tr>\n",
       "      <th>1</th>\n",
       "      <td>1</td>\n",
       "      <td>70111.233333</td>\n",
       "      <td>16288.766667</td>\n",
       "    </tr>\n",
       "    <tr>\n",
       "      <th>2</th>\n",
       "      <td>2</td>\n",
       "      <td>35914.400000</td>\n",
       "      <td>50485.600000</td>\n",
       "    </tr>\n",
       "    <tr>\n",
       "      <th>3</th>\n",
       "      <td>3</td>\n",
       "      <td>61881.166667</td>\n",
       "      <td>24518.833333</td>\n",
       "    </tr>\n",
       "    <tr>\n",
       "      <th>4</th>\n",
       "      <td>4</td>\n",
       "      <td>69530.883333</td>\n",
       "      <td>16869.116667</td>\n",
       "    </tr>\n",
       "    <tr>\n",
       "      <th>...</th>\n",
       "      <td>...</td>\n",
       "      <td>...</td>\n",
       "      <td>...</td>\n",
       "    </tr>\n",
       "    <tr>\n",
       "      <th>93208</th>\n",
       "      <td>403726927888</td>\n",
       "      <td>116747.133333</td>\n",
       "      <td>-30347.133333</td>\n",
       "    </tr>\n",
       "    <tr>\n",
       "      <th>93209</th>\n",
       "      <td>403726927895</td>\n",
       "      <td>63875.033333</td>\n",
       "      <td>22524.966667</td>\n",
       "    </tr>\n",
       "    <tr>\n",
       "      <th>93210</th>\n",
       "      <td>403726927896</td>\n",
       "      <td>27596.716667</td>\n",
       "      <td>58803.283333</td>\n",
       "    </tr>\n",
       "    <tr>\n",
       "      <th>93211</th>\n",
       "      <td>403726927904</td>\n",
       "      <td>28803.783333</td>\n",
       "      <td>57596.216667</td>\n",
       "    </tr>\n",
       "    <tr>\n",
       "      <th>93212</th>\n",
       "      <td>403726927905</td>\n",
       "      <td>77767.350000</td>\n",
       "      <td>8632.650000</td>\n",
       "    </tr>\n",
       "  </tbody>\n",
       "</table>\n",
       "<p>93213 rows × 3 columns</p>\n",
       "</div>"
      ],
      "text/plain": [
       "             userId  minutes_spent  unexplained_min\n",
       "0                 0   80723.600000      5676.400000\n",
       "1                 1   70111.233333     16288.766667\n",
       "2                 2   35914.400000     50485.600000\n",
       "3                 3   61881.166667     24518.833333\n",
       "4                 4   69530.883333     16869.116667\n",
       "...             ...            ...              ...\n",
       "93208  403726927888  116747.133333    -30347.133333\n",
       "93209  403726927895   63875.033333     22524.966667\n",
       "93210  403726927896   27596.716667     58803.283333\n",
       "93211  403726927904   28803.783333     57596.216667\n",
       "93212  403726927905   77767.350000      8632.650000\n",
       "\n",
       "[93213 rows x 3 columns]"
      ]
     },
     "execution_count": 8,
     "metadata": {},
     "output_type": "execute_result"
    }
   ],
   "source": [
    "minutesTotal"
   ]
  },
  {
   "cell_type": "code",
   "execution_count": 9,
   "metadata": {},
   "outputs": [],
   "source": [
    "#negative values\n",
    "negMin = minutesTotal[minutesTotal.unexplained_min < 0]"
   ]
  },
  {
   "cell_type": "code",
   "execution_count": 10,
   "metadata": {},
   "outputs": [
    {
     "data": {
      "text/html": [
       "<div>\n",
       "<style scoped>\n",
       "    .dataframe tbody tr th:only-of-type {\n",
       "        vertical-align: middle;\n",
       "    }\n",
       "\n",
       "    .dataframe tbody tr th {\n",
       "        vertical-align: top;\n",
       "    }\n",
       "\n",
       "    .dataframe thead th {\n",
       "        text-align: right;\n",
       "    }\n",
       "</style>\n",
       "<table border=\"1\" class=\"dataframe\">\n",
       "  <thead>\n",
       "    <tr style=\"text-align: right;\">\n",
       "      <th></th>\n",
       "      <th>userId</th>\n",
       "      <th>minutes_spent</th>\n",
       "      <th>unexplained_min</th>\n",
       "    </tr>\n",
       "  </thead>\n",
       "  <tbody>\n",
       "    <tr>\n",
       "      <th>489</th>\n",
       "      <td>499</td>\n",
       "      <td>93003.333333</td>\n",
       "      <td>-6603.333333</td>\n",
       "    </tr>\n",
       "    <tr>\n",
       "      <th>812</th>\n",
       "      <td>827</td>\n",
       "      <td>93362.183333</td>\n",
       "      <td>-6962.183333</td>\n",
       "    </tr>\n",
       "    <tr>\n",
       "      <th>962</th>\n",
       "      <td>979</td>\n",
       "      <td>86610.133333</td>\n",
       "      <td>-210.133333</td>\n",
       "    </tr>\n",
       "    <tr>\n",
       "      <th>1118</th>\n",
       "      <td>1140</td>\n",
       "      <td>338261.866667</td>\n",
       "      <td>-251861.866667</td>\n",
       "    </tr>\n",
       "    <tr>\n",
       "      <th>1175</th>\n",
       "      <td>1199</td>\n",
       "      <td>88712.550000</td>\n",
       "      <td>-2312.550000</td>\n",
       "    </tr>\n",
       "    <tr>\n",
       "      <th>...</th>\n",
       "      <td>...</td>\n",
       "      <td>...</td>\n",
       "      <td>...</td>\n",
       "    </tr>\n",
       "    <tr>\n",
       "      <th>92671</th>\n",
       "      <td>403726927289</td>\n",
       "      <td>88178.100000</td>\n",
       "      <td>-1778.100000</td>\n",
       "    </tr>\n",
       "    <tr>\n",
       "      <th>92734</th>\n",
       "      <td>403726927354</td>\n",
       "      <td>109230.150000</td>\n",
       "      <td>-22830.150000</td>\n",
       "    </tr>\n",
       "    <tr>\n",
       "      <th>93150</th>\n",
       "      <td>403726927807</td>\n",
       "      <td>134408.416667</td>\n",
       "      <td>-48008.416667</td>\n",
       "    </tr>\n",
       "    <tr>\n",
       "      <th>93174</th>\n",
       "      <td>403726927834</td>\n",
       "      <td>110095.300000</td>\n",
       "      <td>-23695.300000</td>\n",
       "    </tr>\n",
       "    <tr>\n",
       "      <th>93208</th>\n",
       "      <td>403726927888</td>\n",
       "      <td>116747.133333</td>\n",
       "      <td>-30347.133333</td>\n",
       "    </tr>\n",
       "  </tbody>\n",
       "</table>\n",
       "<p>489 rows × 3 columns</p>\n",
       "</div>"
      ],
      "text/plain": [
       "             userId  minutes_spent  unexplained_min\n",
       "489             499   93003.333333     -6603.333333\n",
       "812             827   93362.183333     -6962.183333\n",
       "962             979   86610.133333      -210.133333\n",
       "1118           1140  338261.866667   -251861.866667\n",
       "1175           1199   88712.550000     -2312.550000\n",
       "...             ...            ...              ...\n",
       "92671  403726927289   88178.100000     -1778.100000\n",
       "92734  403726927354  109230.150000    -22830.150000\n",
       "93150  403726927807  134408.416667    -48008.416667\n",
       "93174  403726927834  110095.300000    -23695.300000\n",
       "93208  403726927888  116747.133333    -30347.133333\n",
       "\n",
       "[489 rows x 3 columns]"
      ]
     },
     "execution_count": 10,
     "metadata": {},
     "output_type": "execute_result"
    }
   ],
   "source": [
    "negMin"
   ]
  },
  {
   "cell_type": "code",
   "execution_count": 11,
   "metadata": {},
   "outputs": [],
   "source": [
    "#list with the users to delete due to too many minutes in minutes_spent\n",
    "userToDelete = negMin.userId.tolist()"
   ]
  },
  {
   "cell_type": "code",
   "execution_count": 12,
   "metadata": {},
   "outputs": [],
   "source": [
    "#delete users with to many minutes from the data\n",
    "data = df[~df.userId.isin(userToDelete)]"
   ]
  },
  {
   "cell_type": "code",
   "execution_count": 13,
   "metadata": {},
   "outputs": [],
   "source": [
    "#Save the new filtering of the data\n",
    "os.chdir(\"/Users/Ellen/Documents/Dokumenter/DTU/7. Semester/Bachelor\")\n",
    "data.to_csv('data.csv', index=False)"
   ]
  },
  {
   "cell_type": "code",
   "execution_count": 14,
   "metadata": {},
   "outputs": [],
   "source": [
    "#users for the data with the deleted users\n",
    "user = data['userId'].unique().tolist()"
   ]
  },
  {
   "cell_type": "code",
   "execution_count": 15,
   "metadata": {},
   "outputs": [
    {
     "data": {
      "text/html": [
       "<div>\n",
       "<style scoped>\n",
       "    .dataframe tbody tr th:only-of-type {\n",
       "        vertical-align: middle;\n",
       "    }\n",
       "\n",
       "    .dataframe tbody tr th {\n",
       "        vertical-align: top;\n",
       "    }\n",
       "\n",
       "    .dataframe thead th {\n",
       "        text-align: right;\n",
       "    }\n",
       "</style>\n",
       "<table border=\"1\" class=\"dataframe\">\n",
       "  <thead>\n",
       "    <tr style=\"text-align: right;\">\n",
       "      <th></th>\n",
       "      <th>userId</th>\n",
       "      <th>incrementalId</th>\n",
       "      <th>POIId</th>\n",
       "      <th>weekday</th>\n",
       "      <th>hour</th>\n",
       "      <th>minutes_spent</th>\n",
       "      <th>stop_type</th>\n",
       "      <th>name1_fs</th>\n",
       "      <th>name2_fs</th>\n",
       "    </tr>\n",
       "  </thead>\n",
       "  <tbody>\n",
       "    <tr>\n",
       "      <th>0</th>\n",
       "      <td>0</td>\n",
       "      <td>1</td>\n",
       "      <td>NaN</td>\n",
       "      <td>4</td>\n",
       "      <td>0</td>\n",
       "      <td>1881.216667</td>\n",
       "      <td>home</td>\n",
       "      <td>NaN</td>\n",
       "      <td>NaN</td>\n",
       "    </tr>\n",
       "    <tr>\n",
       "      <th>1</th>\n",
       "      <td>0</td>\n",
       "      <td>2</td>\n",
       "      <td>NaN</td>\n",
       "      <td>5</td>\n",
       "      <td>8</td>\n",
       "      <td>40.400000</td>\n",
       "      <td>other</td>\n",
       "      <td>NaN</td>\n",
       "      <td>NaN</td>\n",
       "    </tr>\n",
       "    <tr>\n",
       "      <th>2</th>\n",
       "      <td>0</td>\n",
       "      <td>3</td>\n",
       "      <td>1.202591e+12</td>\n",
       "      <td>5</td>\n",
       "      <td>10</td>\n",
       "      <td>77.350000</td>\n",
       "      <td>poi</td>\n",
       "      <td>Shop &amp; Service</td>\n",
       "      <td>Tailor Shop</td>\n",
       "    </tr>\n",
       "    <tr>\n",
       "      <th>3</th>\n",
       "      <td>0</td>\n",
       "      <td>4</td>\n",
       "      <td>NaN</td>\n",
       "      <td>5</td>\n",
       "      <td>11</td>\n",
       "      <td>376.450000</td>\n",
       "      <td>home</td>\n",
       "      <td>NaN</td>\n",
       "      <td>NaN</td>\n",
       "    </tr>\n",
       "    <tr>\n",
       "      <th>4</th>\n",
       "      <td>0</td>\n",
       "      <td>5</td>\n",
       "      <td>1.202591e+12</td>\n",
       "      <td>5</td>\n",
       "      <td>18</td>\n",
       "      <td>5.216667</td>\n",
       "      <td>poi</td>\n",
       "      <td>Shop &amp; Service</td>\n",
       "      <td>Tailor Shop</td>\n",
       "    </tr>\n",
       "    <tr>\n",
       "      <th>...</th>\n",
       "      <td>...</td>\n",
       "      <td>...</td>\n",
       "      <td>...</td>\n",
       "      <td>...</td>\n",
       "      <td>...</td>\n",
       "      <td>...</td>\n",
       "      <td>...</td>\n",
       "      <td>...</td>\n",
       "      <td>...</td>\n",
       "    </tr>\n",
       "    <tr>\n",
       "      <th>20130765</th>\n",
       "      <td>403726927905</td>\n",
       "      <td>61</td>\n",
       "      <td>NaN</td>\n",
       "      <td>6</td>\n",
       "      <td>8</td>\n",
       "      <td>5.083333</td>\n",
       "      <td>home</td>\n",
       "      <td>NaN</td>\n",
       "      <td>NaN</td>\n",
       "    </tr>\n",
       "    <tr>\n",
       "      <th>20130766</th>\n",
       "      <td>403726927905</td>\n",
       "      <td>62</td>\n",
       "      <td>1.537598e+12</td>\n",
       "      <td>6</td>\n",
       "      <td>9</td>\n",
       "      <td>63.316667</td>\n",
       "      <td>poi</td>\n",
       "      <td>Professional &amp; Other Places</td>\n",
       "      <td>School</td>\n",
       "    </tr>\n",
       "    <tr>\n",
       "      <th>20130767</th>\n",
       "      <td>403726927905</td>\n",
       "      <td>63</td>\n",
       "      <td>NaN</td>\n",
       "      <td>6</td>\n",
       "      <td>11</td>\n",
       "      <td>233.016667</td>\n",
       "      <td>home</td>\n",
       "      <td>NaN</td>\n",
       "      <td>NaN</td>\n",
       "    </tr>\n",
       "    <tr>\n",
       "      <th>20130768</th>\n",
       "      <td>403726927905</td>\n",
       "      <td>64</td>\n",
       "      <td>NaN</td>\n",
       "      <td>6</td>\n",
       "      <td>18</td>\n",
       "      <td>1609.166667</td>\n",
       "      <td>home</td>\n",
       "      <td>NaN</td>\n",
       "      <td>NaN</td>\n",
       "    </tr>\n",
       "    <tr>\n",
       "      <th>20130769</th>\n",
       "      <td>403726927905</td>\n",
       "      <td>65</td>\n",
       "      <td>NaN</td>\n",
       "      <td>7</td>\n",
       "      <td>22</td>\n",
       "      <td>2595.416667</td>\n",
       "      <td>home</td>\n",
       "      <td>NaN</td>\n",
       "      <td>NaN</td>\n",
       "    </tr>\n",
       "  </tbody>\n",
       "</table>\n",
       "<p>20071659 rows × 9 columns</p>\n",
       "</div>"
      ],
      "text/plain": [
       "                userId  incrementalId         POIId  weekday  hour  \\\n",
       "0                    0              1           NaN        4     0   \n",
       "1                    0              2           NaN        5     8   \n",
       "2                    0              3  1.202591e+12        5    10   \n",
       "3                    0              4           NaN        5    11   \n",
       "4                    0              5  1.202591e+12        5    18   \n",
       "...                ...            ...           ...      ...   ...   \n",
       "20130765  403726927905             61           NaN        6     8   \n",
       "20130766  403726927905             62  1.537598e+12        6     9   \n",
       "20130767  403726927905             63           NaN        6    11   \n",
       "20130768  403726927905             64           NaN        6    18   \n",
       "20130769  403726927905             65           NaN        7    22   \n",
       "\n",
       "          minutes_spent stop_type                     name1_fs     name2_fs  \n",
       "0           1881.216667      home                          NaN          NaN  \n",
       "1             40.400000     other                          NaN          NaN  \n",
       "2             77.350000       poi               Shop & Service  Tailor Shop  \n",
       "3            376.450000      home                          NaN          NaN  \n",
       "4              5.216667       poi               Shop & Service  Tailor Shop  \n",
       "...                 ...       ...                          ...          ...  \n",
       "20130765       5.083333      home                          NaN          NaN  \n",
       "20130766      63.316667       poi  Professional & Other Places       School  \n",
       "20130767     233.016667      home                          NaN          NaN  \n",
       "20130768    1609.166667      home                          NaN          NaN  \n",
       "20130769    2595.416667      home                          NaN          NaN  \n",
       "\n",
       "[20071659 rows x 9 columns]"
      ]
     },
     "execution_count": 15,
     "metadata": {},
     "output_type": "execute_result"
    }
   ],
   "source": [
    "data"
   ]
  },
  {
   "cell_type": "code",
   "execution_count": 16,
   "metadata": {},
   "outputs": [],
   "source": [
    "#minutes spent in total for each user in the new filtered data\n",
    "minutesTotal = data.groupby('userId').sum()['minutes_spent'].reset_index()"
   ]
  },
  {
   "cell_type": "code",
   "execution_count": 17,
   "metadata": {},
   "outputs": [
    {
     "data": {
      "text/html": [
       "<div>\n",
       "<style scoped>\n",
       "    .dataframe tbody tr th:only-of-type {\n",
       "        vertical-align: middle;\n",
       "    }\n",
       "\n",
       "    .dataframe tbody tr th {\n",
       "        vertical-align: top;\n",
       "    }\n",
       "\n",
       "    .dataframe thead th {\n",
       "        text-align: right;\n",
       "    }\n",
       "</style>\n",
       "<table border=\"1\" class=\"dataframe\">\n",
       "  <thead>\n",
       "    <tr style=\"text-align: right;\">\n",
       "      <th></th>\n",
       "      <th>userId</th>\n",
       "      <th>minutes_spent</th>\n",
       "    </tr>\n",
       "  </thead>\n",
       "  <tbody>\n",
       "    <tr>\n",
       "      <th>0</th>\n",
       "      <td>0</td>\n",
       "      <td>80723.600000</td>\n",
       "    </tr>\n",
       "    <tr>\n",
       "      <th>1</th>\n",
       "      <td>1</td>\n",
       "      <td>70111.233333</td>\n",
       "    </tr>\n",
       "    <tr>\n",
       "      <th>2</th>\n",
       "      <td>2</td>\n",
       "      <td>35914.400000</td>\n",
       "    </tr>\n",
       "    <tr>\n",
       "      <th>3</th>\n",
       "      <td>3</td>\n",
       "      <td>61881.166667</td>\n",
       "    </tr>\n",
       "    <tr>\n",
       "      <th>4</th>\n",
       "      <td>4</td>\n",
       "      <td>69530.883333</td>\n",
       "    </tr>\n",
       "    <tr>\n",
       "      <th>...</th>\n",
       "      <td>...</td>\n",
       "      <td>...</td>\n",
       "    </tr>\n",
       "    <tr>\n",
       "      <th>92719</th>\n",
       "      <td>403726927883</td>\n",
       "      <td>27184.033333</td>\n",
       "    </tr>\n",
       "    <tr>\n",
       "      <th>92720</th>\n",
       "      <td>403726927895</td>\n",
       "      <td>63875.033333</td>\n",
       "    </tr>\n",
       "    <tr>\n",
       "      <th>92721</th>\n",
       "      <td>403726927896</td>\n",
       "      <td>27596.716667</td>\n",
       "    </tr>\n",
       "    <tr>\n",
       "      <th>92722</th>\n",
       "      <td>403726927904</td>\n",
       "      <td>28803.783333</td>\n",
       "    </tr>\n",
       "    <tr>\n",
       "      <th>92723</th>\n",
       "      <td>403726927905</td>\n",
       "      <td>77767.350000</td>\n",
       "    </tr>\n",
       "  </tbody>\n",
       "</table>\n",
       "<p>92724 rows × 2 columns</p>\n",
       "</div>"
      ],
      "text/plain": [
       "             userId  minutes_spent\n",
       "0                 0   80723.600000\n",
       "1                 1   70111.233333\n",
       "2                 2   35914.400000\n",
       "3                 3   61881.166667\n",
       "4                 4   69530.883333\n",
       "...             ...            ...\n",
       "92719  403726927883   27184.033333\n",
       "92720  403726927895   63875.033333\n",
       "92721  403726927896   27596.716667\n",
       "92722  403726927904   28803.783333\n",
       "92723  403726927905   77767.350000\n",
       "\n",
       "[92724 rows x 2 columns]"
      ]
     },
     "execution_count": 17,
     "metadata": {},
     "output_type": "execute_result"
    }
   ],
   "source": [
    "minutesTotal"
   ]
  },
  {
   "cell_type": "code",
   "execution_count": 18,
   "metadata": {},
   "outputs": [],
   "source": [
    "#unexplained minutes(minutes, where it is not in the data where they are) for the new filtered data\n",
    "minutesTotal['unexplained_min'] = Nmin-minutesTotal['minutes_spent']"
   ]
  },
  {
   "cell_type": "code",
   "execution_count": 19,
   "metadata": {},
   "outputs": [],
   "source": [
    "os.chdir(\"/Users/Ellen/Documents/Dokumenter/DTU/7. Semester/Bachelor/Plots\")"
   ]
  },
  {
   "cell_type": "code",
   "execution_count": 20,
   "metadata": {},
   "outputs": [
    {
     "data": {
      "image/png": "[encoded data removed]",
      "text/plain": [
       "<Figure size 1440x720 with 1 Axes>"
      ]
     },
     "metadata": {},
     "output_type": "display_data"
    }
   ],
   "source": [
    "#minutes not explained\n",
    "sns.histplot(data=minutesTotal['unexplained_min'], color='cornflowerblue')\n",
    "plt.ylabel('Number of users')\n",
    "plt.xlabel('Minutes')\n",
    "plt.savefig('unexplainedMin.png', bbox_inches='tight') #Save plot\n",
    "plt.show()"
   ]
  },
  {
   "cell_type": "code",
   "execution_count": 21,
   "metadata": {},
   "outputs": [
    {
     "data": {
      "text/plain": [
       "56348.64583333331"
      ]
     },
     "execution_count": 21,
     "metadata": {},
     "output_type": "execute_result"
    }
   ],
   "source": [
    "#25-quantile\n",
    "minutesTotal['minutes_spent'].quantile(q=0.25)"
   ]
  },
  {
   "cell_type": "code",
   "execution_count": 22,
   "metadata": {},
   "outputs": [
    {
     "data": {
      "text/plain": [
       "69021.97499999998"
      ]
     },
     "execution_count": 22,
     "metadata": {},
     "output_type": "execute_result"
    }
   ],
   "source": [
    "#median\n",
    "minutesTotal['minutes_spent'].median()"
   ]
  },
  {
   "cell_type": "code",
   "execution_count": 23,
   "metadata": {},
   "outputs": [
    {
     "data": {
      "text/plain": [
       "75946.1875"
      ]
     },
     "execution_count": 23,
     "metadata": {},
     "output_type": "execute_result"
    }
   ],
   "source": [
    "#75-quantile\n",
    "minutesTotal['minutes_spent'].quantile(q=0.75)"
   ]
  },
  {
   "cell_type": "code",
   "execution_count": 24,
   "metadata": {},
   "outputs": [],
   "source": [
    "#explained time - how much of the time is explained by stopping at home, work, other or POI\n",
    "minutesTotal['explained_time'] = minutesTotal['minutes_spent']/Nmin"
   ]
  },
  {
   "cell_type": "code",
   "execution_count": 25,
   "metadata": {},
   "outputs": [
    {
     "data": {
      "text/html": [
       "<div>\n",
       "<style scoped>\n",
       "    .dataframe tbody tr th:only-of-type {\n",
       "        vertical-align: middle;\n",
       "    }\n",
       "\n",
       "    .dataframe tbody tr th {\n",
       "        vertical-align: top;\n",
       "    }\n",
       "\n",
       "    .dataframe thead th {\n",
       "        text-align: right;\n",
       "    }\n",
       "</style>\n",
       "<table border=\"1\" class=\"dataframe\">\n",
       "  <thead>\n",
       "    <tr style=\"text-align: right;\">\n",
       "      <th></th>\n",
       "      <th>userId</th>\n",
       "      <th>minutes_spent</th>\n",
       "      <th>unexplained_min</th>\n",
       "      <th>explained_time</th>\n",
       "    </tr>\n",
       "  </thead>\n",
       "  <tbody>\n",
       "    <tr>\n",
       "      <th>0</th>\n",
       "      <td>0</td>\n",
       "      <td>80723.600000</td>\n",
       "      <td>5676.400000</td>\n",
       "      <td>0.934301</td>\n",
       "    </tr>\n",
       "    <tr>\n",
       "      <th>1</th>\n",
       "      <td>1</td>\n",
       "      <td>70111.233333</td>\n",
       "      <td>16288.766667</td>\n",
       "      <td>0.811473</td>\n",
       "    </tr>\n",
       "    <tr>\n",
       "      <th>2</th>\n",
       "      <td>2</td>\n",
       "      <td>35914.400000</td>\n",
       "      <td>50485.600000</td>\n",
       "      <td>0.415676</td>\n",
       "    </tr>\n",
       "    <tr>\n",
       "      <th>3</th>\n",
       "      <td>3</td>\n",
       "      <td>61881.166667</td>\n",
       "      <td>24518.833333</td>\n",
       "      <td>0.716217</td>\n",
       "    </tr>\n",
       "    <tr>\n",
       "      <th>4</th>\n",
       "      <td>4</td>\n",
       "      <td>69530.883333</td>\n",
       "      <td>16869.116667</td>\n",
       "      <td>0.804756</td>\n",
       "    </tr>\n",
       "    <tr>\n",
       "      <th>...</th>\n",
       "      <td>...</td>\n",
       "      <td>...</td>\n",
       "      <td>...</td>\n",
       "      <td>...</td>\n",
       "    </tr>\n",
       "    <tr>\n",
       "      <th>92719</th>\n",
       "      <td>403726927883</td>\n",
       "      <td>27184.033333</td>\n",
       "      <td>59215.966667</td>\n",
       "      <td>0.314630</td>\n",
       "    </tr>\n",
       "    <tr>\n",
       "      <th>92720</th>\n",
       "      <td>403726927895</td>\n",
       "      <td>63875.033333</td>\n",
       "      <td>22524.966667</td>\n",
       "      <td>0.739294</td>\n",
       "    </tr>\n",
       "    <tr>\n",
       "      <th>92721</th>\n",
       "      <td>403726927896</td>\n",
       "      <td>27596.716667</td>\n",
       "      <td>58803.283333</td>\n",
       "      <td>0.319406</td>\n",
       "    </tr>\n",
       "    <tr>\n",
       "      <th>92722</th>\n",
       "      <td>403726927904</td>\n",
       "      <td>28803.783333</td>\n",
       "      <td>57596.216667</td>\n",
       "      <td>0.333377</td>\n",
       "    </tr>\n",
       "    <tr>\n",
       "      <th>92723</th>\n",
       "      <td>403726927905</td>\n",
       "      <td>77767.350000</td>\n",
       "      <td>8632.650000</td>\n",
       "      <td>0.900085</td>\n",
       "    </tr>\n",
       "  </tbody>\n",
       "</table>\n",
       "<p>92724 rows × 4 columns</p>\n",
       "</div>"
      ],
      "text/plain": [
       "             userId  minutes_spent  unexplained_min  explained_time\n",
       "0                 0   80723.600000      5676.400000        0.934301\n",
       "1                 1   70111.233333     16288.766667        0.811473\n",
       "2                 2   35914.400000     50485.600000        0.415676\n",
       "3                 3   61881.166667     24518.833333        0.716217\n",
       "4                 4   69530.883333     16869.116667        0.804756\n",
       "...             ...            ...              ...             ...\n",
       "92719  403726927883   27184.033333     59215.966667        0.314630\n",
       "92720  403726927895   63875.033333     22524.966667        0.739294\n",
       "92721  403726927896   27596.716667     58803.283333        0.319406\n",
       "92722  403726927904   28803.783333     57596.216667        0.333377\n",
       "92723  403726927905   77767.350000      8632.650000        0.900085\n",
       "\n",
       "[92724 rows x 4 columns]"
      ]
     },
     "execution_count": 25,
     "metadata": {},
     "output_type": "execute_result"
    }
   ],
   "source": [
    "minutesTotal"
   ]
  },
  {
   "cell_type": "code",
   "execution_count": 26,
   "metadata": {},
   "outputs": [
    {
     "data": {
      "text/plain": [
       "0.011947337962962963"
      ]
     },
     "execution_count": 26,
     "metadata": {},
     "output_type": "execute_result"
    }
   ],
   "source": [
    "min(minutesTotal['explained_time'])"
   ]
  },
  {
   "cell_type": "code",
   "execution_count": 27,
   "metadata": {},
   "outputs": [
    {
     "data": {
      "text/plain": [
       "0.9999780092592596"
      ]
     },
     "execution_count": 27,
     "metadata": {},
     "output_type": "execute_result"
    }
   ],
   "source": [
    "max(minutesTotal['explained_time'])"
   ]
  },
  {
   "cell_type": "code",
   "execution_count": 28,
   "metadata": {},
   "outputs": [
    {
     "data": {
      "text/html": [
       "<div>\n",
       "<style scoped>\n",
       "    .dataframe tbody tr th:only-of-type {\n",
       "        vertical-align: middle;\n",
       "    }\n",
       "\n",
       "    .dataframe tbody tr th {\n",
       "        vertical-align: top;\n",
       "    }\n",
       "\n",
       "    .dataframe thead th {\n",
       "        text-align: right;\n",
       "    }\n",
       "</style>\n",
       "<table border=\"1\" class=\"dataframe\">\n",
       "  <thead>\n",
       "    <tr style=\"text-align: right;\">\n",
       "      <th></th>\n",
       "      <th>userId</th>\n",
       "      <th>minutes_spent</th>\n",
       "      <th>unexplained_min</th>\n",
       "      <th>explained_time</th>\n",
       "    </tr>\n",
       "  </thead>\n",
       "  <tbody>\n",
       "    <tr>\n",
       "      <th>70697</th>\n",
       "      <td>309237646482</td>\n",
       "      <td>1314.366667</td>\n",
       "      <td>85085.633333</td>\n",
       "      <td>0.015213</td>\n",
       "    </tr>\n",
       "    <tr>\n",
       "      <th>80831</th>\n",
       "      <td>352187319935</td>\n",
       "      <td>1032.250000</td>\n",
       "      <td>85367.750000</td>\n",
       "      <td>0.011947</td>\n",
       "    </tr>\n",
       "  </tbody>\n",
       "</table>\n",
       "</div>"
      ],
      "text/plain": [
       "             userId  minutes_spent  unexplained_min  explained_time\n",
       "70697  309237646482    1314.366667     85085.633333        0.015213\n",
       "80831  352187319935    1032.250000     85367.750000        0.011947"
      ]
     },
     "execution_count": 28,
     "metadata": {},
     "output_type": "execute_result"
    }
   ],
   "source": [
    "#users with less than 2% explained\n",
    "minutesTotal[minutesTotal.explained_time < 0.02]"
   ]
  },
  {
   "cell_type": "code",
   "execution_count": 29,
   "metadata": {},
   "outputs": [
    {
     "data": {
      "text/html": [
       "<div>\n",
       "<style scoped>\n",
       "    .dataframe tbody tr th:only-of-type {\n",
       "        vertical-align: middle;\n",
       "    }\n",
       "\n",
       "    .dataframe tbody tr th {\n",
       "        vertical-align: top;\n",
       "    }\n",
       "\n",
       "    .dataframe thead th {\n",
       "        text-align: right;\n",
       "    }\n",
       "</style>\n",
       "<table border=\"1\" class=\"dataframe\">\n",
       "  <thead>\n",
       "    <tr style=\"text-align: right;\">\n",
       "      <th></th>\n",
       "      <th>userId</th>\n",
       "      <th>minutes_spent</th>\n",
       "      <th>unexplained_min</th>\n",
       "      <th>explained_time</th>\n",
       "    </tr>\n",
       "  </thead>\n",
       "  <tbody>\n",
       "    <tr>\n",
       "      <th>199</th>\n",
       "      <td>202</td>\n",
       "      <td>86257.533333</td>\n",
       "      <td>142.466667</td>\n",
       "      <td>0.998351</td>\n",
       "    </tr>\n",
       "    <tr>\n",
       "      <th>1490</th>\n",
       "      <td>1532</td>\n",
       "      <td>85636.616667</td>\n",
       "      <td>763.383333</td>\n",
       "      <td>0.991165</td>\n",
       "    </tr>\n",
       "    <tr>\n",
       "      <th>1921</th>\n",
       "      <td>2019</td>\n",
       "      <td>85901.316667</td>\n",
       "      <td>498.683333</td>\n",
       "      <td>0.994228</td>\n",
       "    </tr>\n",
       "    <tr>\n",
       "      <th>3042</th>\n",
       "      <td>8589935731</td>\n",
       "      <td>86086.850000</td>\n",
       "      <td>313.150000</td>\n",
       "      <td>0.996376</td>\n",
       "    </tr>\n",
       "    <tr>\n",
       "      <th>3467</th>\n",
       "      <td>8589936167</td>\n",
       "      <td>86267.433333</td>\n",
       "      <td>132.566667</td>\n",
       "      <td>0.998466</td>\n",
       "    </tr>\n",
       "    <tr>\n",
       "      <th>...</th>\n",
       "      <td>...</td>\n",
       "      <td>...</td>\n",
       "      <td>...</td>\n",
       "      <td>...</td>\n",
       "    </tr>\n",
       "    <tr>\n",
       "      <th>90651</th>\n",
       "      <td>395136993103</td>\n",
       "      <td>86001.166667</td>\n",
       "      <td>398.833333</td>\n",
       "      <td>0.995384</td>\n",
       "    </tr>\n",
       "    <tr>\n",
       "      <th>90692</th>\n",
       "      <td>395136993158</td>\n",
       "      <td>85869.666667</td>\n",
       "      <td>530.333333</td>\n",
       "      <td>0.993862</td>\n",
       "    </tr>\n",
       "    <tr>\n",
       "      <th>91258</th>\n",
       "      <td>403726926331</td>\n",
       "      <td>85935.983333</td>\n",
       "      <td>464.016667</td>\n",
       "      <td>0.994629</td>\n",
       "    </tr>\n",
       "    <tr>\n",
       "      <th>92282</th>\n",
       "      <td>403726927389</td>\n",
       "      <td>86048.650000</td>\n",
       "      <td>351.350000</td>\n",
       "      <td>0.995933</td>\n",
       "    </tr>\n",
       "    <tr>\n",
       "      <th>92554</th>\n",
       "      <td>403726927682</td>\n",
       "      <td>85831.550000</td>\n",
       "      <td>568.450000</td>\n",
       "      <td>0.993421</td>\n",
       "    </tr>\n",
       "  </tbody>\n",
       "</table>\n",
       "<p>168 rows × 4 columns</p>\n",
       "</div>"
      ],
      "text/plain": [
       "             userId  minutes_spent  unexplained_min  explained_time\n",
       "199             202   86257.533333       142.466667        0.998351\n",
       "1490           1532   85636.616667       763.383333        0.991165\n",
       "1921           2019   85901.316667       498.683333        0.994228\n",
       "3042     8589935731   86086.850000       313.150000        0.996376\n",
       "3467     8589936167   86267.433333       132.566667        0.998466\n",
       "...             ...            ...              ...             ...\n",
       "90651  395136993103   86001.166667       398.833333        0.995384\n",
       "90692  395136993158   85869.666667       530.333333        0.993862\n",
       "91258  403726926331   85935.983333       464.016667        0.994629\n",
       "92282  403726927389   86048.650000       351.350000        0.995933\n",
       "92554  403726927682   85831.550000       568.450000        0.993421\n",
       "\n",
       "[168 rows x 4 columns]"
      ]
     },
     "execution_count": 29,
     "metadata": {},
     "output_type": "execute_result"
    }
   ],
   "source": [
    "#users with more than 99% explained\n",
    "minutesTotal[minutesTotal.explained_time > 0.99]"
   ]
  },
  {
   "cell_type": "code",
   "execution_count": 30,
   "metadata": {},
   "outputs": [
    {
     "data": {
      "image/png": "[encoded data removed]",
      "text/plain": [
       "<Figure size 1440x720 with 1 Axes>"
      ]
     },
     "metadata": {},
     "output_type": "display_data"
    }
   ],
   "source": [
    "#Explained time\n",
    "sns.histplot(data=minutesTotal['explained_time'], color='cornflowerblue')\n",
    "plt.ylabel('Number of users')\n",
    "plt.xlabel('Fraction of time')\n",
    "plt.savefig('explainedMin.png', bbox_inches = 'tight') #Save plot\n",
    "plt.show()"
   ]
  },
  {
   "cell_type": "code",
   "execution_count": 31,
   "metadata": {},
   "outputs": [
    {
     "data": {
      "text/plain": [
       "0.6521834008487652"
      ]
     },
     "execution_count": 31,
     "metadata": {},
     "output_type": "execute_result"
    }
   ],
   "source": [
    "#25-quantile\n",
    "minutesTotal['explained_time'].quantile(q=0.25)"
   ]
  },
  {
   "cell_type": "code",
   "execution_count": 32,
   "metadata": {},
   "outputs": [
    {
     "data": {
      "text/plain": [
       "0.7988654513888885"
      ]
     },
     "execution_count": 32,
     "metadata": {},
     "output_type": "execute_result"
    }
   ],
   "source": [
    "#median\n",
    "minutesTotal['explained_time'].median()"
   ]
  },
  {
   "cell_type": "code",
   "execution_count": 33,
   "metadata": {},
   "outputs": [
    {
     "data": {
      "text/plain": [
       "0.8790067997685186"
      ]
     },
     "execution_count": 33,
     "metadata": {},
     "output_type": "execute_result"
    }
   ],
   "source": [
    "#75-quantile\n",
    "minutesTotal['explained_time'].quantile(q=0.75)"
   ]
  },
  {
   "cell_type": "code",
   "execution_count": 34,
   "metadata": {},
   "outputs": [],
   "source": [
    "#number of minutes at stop categories\n",
    "stopMinutes = data.groupby(['userId', 'stop_type']).sum()['minutes_spent'].unstack().fillna(0)"
   ]
  },
  {
   "cell_type": "code",
   "execution_count": 35,
   "metadata": {},
   "outputs": [],
   "source": [
    "#minutes used at home, other, poi, work and in total\n",
    "stopMinutes['total'] = stopMinutes.sum(axis=1)"
   ]
  },
  {
   "cell_type": "code",
   "execution_count": 36,
   "metadata": {},
   "outputs": [
    {
     "data": {
      "text/html": [
       "<div>\n",
       "<style scoped>\n",
       "    .dataframe tbody tr th:only-of-type {\n",
       "        vertical-align: middle;\n",
       "    }\n",
       "\n",
       "    .dataframe tbody tr th {\n",
       "        vertical-align: top;\n",
       "    }\n",
       "\n",
       "    .dataframe thead th {\n",
       "        text-align: right;\n",
       "    }\n",
       "</style>\n",
       "<table border=\"1\" class=\"dataframe\">\n",
       "  <thead>\n",
       "    <tr style=\"text-align: right;\">\n",
       "      <th>stop_type</th>\n",
       "      <th>home</th>\n",
       "      <th>other</th>\n",
       "      <th>poi</th>\n",
       "      <th>work</th>\n",
       "      <th>total</th>\n",
       "    </tr>\n",
       "    <tr>\n",
       "      <th>userId</th>\n",
       "      <th></th>\n",
       "      <th></th>\n",
       "      <th></th>\n",
       "      <th></th>\n",
       "      <th></th>\n",
       "    </tr>\n",
       "  </thead>\n",
       "  <tbody>\n",
       "    <tr>\n",
       "      <th>0</th>\n",
       "      <td>73997.416667</td>\n",
       "      <td>1275.850000</td>\n",
       "      <td>3095.300000</td>\n",
       "      <td>2355.033333</td>\n",
       "      <td>80723.600000</td>\n",
       "    </tr>\n",
       "    <tr>\n",
       "      <th>1</th>\n",
       "      <td>48088.700000</td>\n",
       "      <td>4947.666667</td>\n",
       "      <td>1363.366667</td>\n",
       "      <td>15711.500000</td>\n",
       "      <td>70111.233333</td>\n",
       "    </tr>\n",
       "    <tr>\n",
       "      <th>2</th>\n",
       "      <td>31875.783333</td>\n",
       "      <td>1753.916667</td>\n",
       "      <td>2284.700000</td>\n",
       "      <td>0.000000</td>\n",
       "      <td>35914.400000</td>\n",
       "    </tr>\n",
       "    <tr>\n",
       "      <th>3</th>\n",
       "      <td>39531.566667</td>\n",
       "      <td>4269.650000</td>\n",
       "      <td>11341.983333</td>\n",
       "      <td>6737.966667</td>\n",
       "      <td>61881.166667</td>\n",
       "    </tr>\n",
       "    <tr>\n",
       "      <th>4</th>\n",
       "      <td>52730.050000</td>\n",
       "      <td>1906.516667</td>\n",
       "      <td>13029.483333</td>\n",
       "      <td>1864.833333</td>\n",
       "      <td>69530.883333</td>\n",
       "    </tr>\n",
       "    <tr>\n",
       "      <th>...</th>\n",
       "      <td>...</td>\n",
       "      <td>...</td>\n",
       "      <td>...</td>\n",
       "      <td>...</td>\n",
       "      <td>...</td>\n",
       "    </tr>\n",
       "    <tr>\n",
       "      <th>403726927883</th>\n",
       "      <td>23563.100000</td>\n",
       "      <td>1864.933333</td>\n",
       "      <td>533.566667</td>\n",
       "      <td>1222.433333</td>\n",
       "      <td>27184.033333</td>\n",
       "    </tr>\n",
       "    <tr>\n",
       "      <th>403726927895</th>\n",
       "      <td>56771.533333</td>\n",
       "      <td>6202.850000</td>\n",
       "      <td>806.150000</td>\n",
       "      <td>94.500000</td>\n",
       "      <td>63875.033333</td>\n",
       "    </tr>\n",
       "    <tr>\n",
       "      <th>403726927896</th>\n",
       "      <td>19862.866667</td>\n",
       "      <td>1553.516667</td>\n",
       "      <td>1152.733333</td>\n",
       "      <td>5027.600000</td>\n",
       "      <td>27596.716667</td>\n",
       "    </tr>\n",
       "    <tr>\n",
       "      <th>403726927904</th>\n",
       "      <td>12276.566667</td>\n",
       "      <td>4662.300000</td>\n",
       "      <td>0.000000</td>\n",
       "      <td>11864.916667</td>\n",
       "      <td>28803.783333</td>\n",
       "    </tr>\n",
       "    <tr>\n",
       "      <th>403726927905</th>\n",
       "      <td>76423.833333</td>\n",
       "      <td>0.000000</td>\n",
       "      <td>1343.516667</td>\n",
       "      <td>0.000000</td>\n",
       "      <td>77767.350000</td>\n",
       "    </tr>\n",
       "  </tbody>\n",
       "</table>\n",
       "<p>92724 rows × 5 columns</p>\n",
       "</div>"
      ],
      "text/plain": [
       "stop_type             home        other           poi          work  \\\n",
       "userId                                                                \n",
       "0             73997.416667  1275.850000   3095.300000   2355.033333   \n",
       "1             48088.700000  4947.666667   1363.366667  15711.500000   \n",
       "2             31875.783333  1753.916667   2284.700000      0.000000   \n",
       "3             39531.566667  4269.650000  11341.983333   6737.966667   \n",
       "4             52730.050000  1906.516667  13029.483333   1864.833333   \n",
       "...                    ...          ...           ...           ...   \n",
       "403726927883  23563.100000  1864.933333    533.566667   1222.433333   \n",
       "403726927895  56771.533333  6202.850000    806.150000     94.500000   \n",
       "403726927896  19862.866667  1553.516667   1152.733333   5027.600000   \n",
       "403726927904  12276.566667  4662.300000      0.000000  11864.916667   \n",
       "403726927905  76423.833333     0.000000   1343.516667      0.000000   \n",
       "\n",
       "stop_type            total  \n",
       "userId                      \n",
       "0             80723.600000  \n",
       "1             70111.233333  \n",
       "2             35914.400000  \n",
       "3             61881.166667  \n",
       "4             69530.883333  \n",
       "...                    ...  \n",
       "403726927883  27184.033333  \n",
       "403726927895  63875.033333  \n",
       "403726927896  27596.716667  \n",
       "403726927904  28803.783333  \n",
       "403726927905  77767.350000  \n",
       "\n",
       "[92724 rows x 5 columns]"
      ]
     },
     "execution_count": 36,
     "metadata": {},
     "output_type": "execute_result"
    }
   ],
   "source": [
    "stopMinutes"
   ]
  },
  {
   "cell_type": "code",
   "execution_count": 37,
   "metadata": {},
   "outputs": [],
   "source": [
    "#empty df for the average minutes spent on the stops\n",
    "stopMinAvg = pd.DataFrame()"
   ]
  },
  {
   "cell_type": "code",
   "execution_count": 38,
   "metadata": {},
   "outputs": [],
   "source": [
    "#number of stops at home, other, poi, work for each user\n",
    "NStops = data.groupby(['userId', 'stop_type']).count()['incrementalId'].unstack().fillna(0)"
   ]
  },
  {
   "cell_type": "code",
   "execution_count": 39,
   "metadata": {},
   "outputs": [
    {
     "data": {
      "text/html": [
       "<div>\n",
       "<style scoped>\n",
       "    .dataframe tbody tr th:only-of-type {\n",
       "        vertical-align: middle;\n",
       "    }\n",
       "\n",
       "    .dataframe tbody tr th {\n",
       "        vertical-align: top;\n",
       "    }\n",
       "\n",
       "    .dataframe thead th {\n",
       "        text-align: right;\n",
       "    }\n",
       "</style>\n",
       "<table border=\"1\" class=\"dataframe\">\n",
       "  <thead>\n",
       "    <tr style=\"text-align: right;\">\n",
       "      <th>stop_type</th>\n",
       "      <th>home</th>\n",
       "      <th>other</th>\n",
       "      <th>poi</th>\n",
       "      <th>work</th>\n",
       "    </tr>\n",
       "    <tr>\n",
       "      <th>userId</th>\n",
       "      <th></th>\n",
       "      <th></th>\n",
       "      <th></th>\n",
       "      <th></th>\n",
       "    </tr>\n",
       "  </thead>\n",
       "  <tbody>\n",
       "    <tr>\n",
       "      <th>0</th>\n",
       "      <td>84.0</td>\n",
       "      <td>16.0</td>\n",
       "      <td>80.0</td>\n",
       "      <td>19.0</td>\n",
       "    </tr>\n",
       "    <tr>\n",
       "      <th>1</th>\n",
       "      <td>51.0</td>\n",
       "      <td>56.0</td>\n",
       "      <td>36.0</td>\n",
       "      <td>51.0</td>\n",
       "    </tr>\n",
       "    <tr>\n",
       "      <th>2</th>\n",
       "      <td>94.0</td>\n",
       "      <td>36.0</td>\n",
       "      <td>57.0</td>\n",
       "      <td>0.0</td>\n",
       "    </tr>\n",
       "    <tr>\n",
       "      <th>3</th>\n",
       "      <td>112.0</td>\n",
       "      <td>21.0</td>\n",
       "      <td>146.0</td>\n",
       "      <td>79.0</td>\n",
       "    </tr>\n",
       "    <tr>\n",
       "      <th>4</th>\n",
       "      <td>132.0</td>\n",
       "      <td>26.0</td>\n",
       "      <td>209.0</td>\n",
       "      <td>13.0</td>\n",
       "    </tr>\n",
       "    <tr>\n",
       "      <th>...</th>\n",
       "      <td>...</td>\n",
       "      <td>...</td>\n",
       "      <td>...</td>\n",
       "      <td>...</td>\n",
       "    </tr>\n",
       "    <tr>\n",
       "      <th>403726927883</th>\n",
       "      <td>61.0</td>\n",
       "      <td>32.0</td>\n",
       "      <td>15.0</td>\n",
       "      <td>25.0</td>\n",
       "    </tr>\n",
       "    <tr>\n",
       "      <th>403726927895</th>\n",
       "      <td>123.0</td>\n",
       "      <td>26.0</td>\n",
       "      <td>28.0</td>\n",
       "      <td>4.0</td>\n",
       "    </tr>\n",
       "    <tr>\n",
       "      <th>403726927896</th>\n",
       "      <td>54.0</td>\n",
       "      <td>18.0</td>\n",
       "      <td>3.0</td>\n",
       "      <td>9.0</td>\n",
       "    </tr>\n",
       "    <tr>\n",
       "      <th>403726927904</th>\n",
       "      <td>44.0</td>\n",
       "      <td>16.0</td>\n",
       "      <td>0.0</td>\n",
       "      <td>4.0</td>\n",
       "    </tr>\n",
       "    <tr>\n",
       "      <th>403726927905</th>\n",
       "      <td>53.0</td>\n",
       "      <td>0.0</td>\n",
       "      <td>12.0</td>\n",
       "      <td>0.0</td>\n",
       "    </tr>\n",
       "  </tbody>\n",
       "</table>\n",
       "<p>92724 rows × 4 columns</p>\n",
       "</div>"
      ],
      "text/plain": [
       "stop_type      home  other    poi  work\n",
       "userId                                 \n",
       "0              84.0   16.0   80.0  19.0\n",
       "1              51.0   56.0   36.0  51.0\n",
       "2              94.0   36.0   57.0   0.0\n",
       "3             112.0   21.0  146.0  79.0\n",
       "4             132.0   26.0  209.0  13.0\n",
       "...             ...    ...    ...   ...\n",
       "403726927883   61.0   32.0   15.0  25.0\n",
       "403726927895  123.0   26.0   28.0   4.0\n",
       "403726927896   54.0   18.0    3.0   9.0\n",
       "403726927904   44.0   16.0    0.0   4.0\n",
       "403726927905   53.0    0.0   12.0   0.0\n",
       "\n",
       "[92724 rows x 4 columns]"
      ]
     },
     "execution_count": 39,
     "metadata": {},
     "output_type": "execute_result"
    }
   ],
   "source": [
    "NStops"
   ]
  },
  {
   "cell_type": "code",
   "execution_count": 40,
   "metadata": {},
   "outputs": [],
   "source": [
    "#minutes in average\n",
    "stopMinAvg['avg home_minutes'] = stopMinutes['home']/NStops['home'] #minutes spent at home in average = minutes spent at home / number of stops at home\n",
    "stopMinAvg['avg work_minutes'] = stopMinutes['work']/NStops['work']\n",
    "stopMinAvg['avg other_minutes'] = stopMinutes['other']/NStops['other']\n",
    "stopMinAvg['avg POI_minutes'] = stopMinutes['poi']/NStops['poi']\n",
    "stopMinAvg['avg total_minutes'] = stopMinutes['total']/NStops.sum(axis=1)"
   ]
  },
  {
   "cell_type": "code",
   "execution_count": 41,
   "metadata": {},
   "outputs": [
    {
     "data": {
      "text/html": [
       "<div>\n",
       "<style scoped>\n",
       "    .dataframe tbody tr th:only-of-type {\n",
       "        vertical-align: middle;\n",
       "    }\n",
       "\n",
       "    .dataframe tbody tr th {\n",
       "        vertical-align: top;\n",
       "    }\n",
       "\n",
       "    .dataframe thead th {\n",
       "        text-align: right;\n",
       "    }\n",
       "</style>\n",
       "<table border=\"1\" class=\"dataframe\">\n",
       "  <thead>\n",
       "    <tr style=\"text-align: right;\">\n",
       "      <th></th>\n",
       "      <th>avg home_minutes</th>\n",
       "      <th>avg work_minutes</th>\n",
       "      <th>avg other_minutes</th>\n",
       "      <th>avg POI_minutes</th>\n",
       "      <th>avg total_minutes</th>\n",
       "    </tr>\n",
       "    <tr>\n",
       "      <th>userId</th>\n",
       "      <th></th>\n",
       "      <th></th>\n",
       "      <th></th>\n",
       "      <th></th>\n",
       "      <th></th>\n",
       "    </tr>\n",
       "  </thead>\n",
       "  <tbody>\n",
       "    <tr>\n",
       "      <th>0</th>\n",
       "      <td>880.921627</td>\n",
       "      <td>123.949123</td>\n",
       "      <td>79.740625</td>\n",
       "      <td>38.691250</td>\n",
       "      <td>405.646231</td>\n",
       "    </tr>\n",
       "    <tr>\n",
       "      <th>1</th>\n",
       "      <td>942.915686</td>\n",
       "      <td>308.068627</td>\n",
       "      <td>88.351190</td>\n",
       "      <td>37.871296</td>\n",
       "      <td>361.398110</td>\n",
       "    </tr>\n",
       "    <tr>\n",
       "      <th>2</th>\n",
       "      <td>339.104078</td>\n",
       "      <td>NaN</td>\n",
       "      <td>48.719907</td>\n",
       "      <td>40.082456</td>\n",
       "      <td>192.055615</td>\n",
       "    </tr>\n",
       "    <tr>\n",
       "      <th>3</th>\n",
       "      <td>352.960417</td>\n",
       "      <td>85.290717</td>\n",
       "      <td>203.316667</td>\n",
       "      <td>77.684817</td>\n",
       "      <td>172.852421</td>\n",
       "    </tr>\n",
       "    <tr>\n",
       "      <th>4</th>\n",
       "      <td>399.470076</td>\n",
       "      <td>143.448718</td>\n",
       "      <td>73.327564</td>\n",
       "      <td>62.342026</td>\n",
       "      <td>182.976009</td>\n",
       "    </tr>\n",
       "    <tr>\n",
       "      <th>...</th>\n",
       "      <td>...</td>\n",
       "      <td>...</td>\n",
       "      <td>...</td>\n",
       "      <td>...</td>\n",
       "      <td>...</td>\n",
       "    </tr>\n",
       "    <tr>\n",
       "      <th>403726927883</th>\n",
       "      <td>386.280328</td>\n",
       "      <td>48.897333</td>\n",
       "      <td>58.279167</td>\n",
       "      <td>35.571111</td>\n",
       "      <td>204.391228</td>\n",
       "    </tr>\n",
       "    <tr>\n",
       "      <th>403726927895</th>\n",
       "      <td>461.557182</td>\n",
       "      <td>23.625000</td>\n",
       "      <td>238.571154</td>\n",
       "      <td>28.791071</td>\n",
       "      <td>352.900737</td>\n",
       "    </tr>\n",
       "    <tr>\n",
       "      <th>403726927896</th>\n",
       "      <td>367.830864</td>\n",
       "      <td>558.622222</td>\n",
       "      <td>86.306481</td>\n",
       "      <td>384.244444</td>\n",
       "      <td>328.532341</td>\n",
       "    </tr>\n",
       "    <tr>\n",
       "      <th>403726927904</th>\n",
       "      <td>279.012879</td>\n",
       "      <td>2966.229167</td>\n",
       "      <td>291.393750</td>\n",
       "      <td>NaN</td>\n",
       "      <td>450.059115</td>\n",
       "    </tr>\n",
       "    <tr>\n",
       "      <th>403726927905</th>\n",
       "      <td>1441.959119</td>\n",
       "      <td>NaN</td>\n",
       "      <td>NaN</td>\n",
       "      <td>111.959722</td>\n",
       "      <td>1196.420769</td>\n",
       "    </tr>\n",
       "  </tbody>\n",
       "</table>\n",
       "<p>92724 rows × 5 columns</p>\n",
       "</div>"
      ],
      "text/plain": [
       "              avg home_minutes  avg work_minutes  avg other_minutes  \\\n",
       "userId                                                                \n",
       "0                   880.921627        123.949123          79.740625   \n",
       "1                   942.915686        308.068627          88.351190   \n",
       "2                   339.104078               NaN          48.719907   \n",
       "3                   352.960417         85.290717         203.316667   \n",
       "4                   399.470076        143.448718          73.327564   \n",
       "...                        ...               ...                ...   \n",
       "403726927883        386.280328         48.897333          58.279167   \n",
       "403726927895        461.557182         23.625000         238.571154   \n",
       "403726927896        367.830864        558.622222          86.306481   \n",
       "403726927904        279.012879       2966.229167         291.393750   \n",
       "403726927905       1441.959119               NaN                NaN   \n",
       "\n",
       "              avg POI_minutes  avg total_minutes  \n",
       "userId                                            \n",
       "0                   38.691250         405.646231  \n",
       "1                   37.871296         361.398110  \n",
       "2                   40.082456         192.055615  \n",
       "3                   77.684817         172.852421  \n",
       "4                   62.342026         182.976009  \n",
       "...                       ...                ...  \n",
       "403726927883        35.571111         204.391228  \n",
       "403726927895        28.791071         352.900737  \n",
       "403726927896       384.244444         328.532341  \n",
       "403726927904              NaN         450.059115  \n",
       "403726927905       111.959722        1196.420769  \n",
       "\n",
       "[92724 rows x 5 columns]"
      ]
     },
     "execution_count": 41,
     "metadata": {},
     "output_type": "execute_result"
    }
   ],
   "source": [
    "stopMinAvg"
   ]
  },
  {
   "cell_type": "code",
   "execution_count": 42,
   "metadata": {},
   "outputs": [
    {
     "data": {
      "image/png": "[encoded data removed]",
      "text/plain": [
       "<Figure size 1440x720 with 1 Axes>"
      ]
     },
     "metadata": {},
     "output_type": "display_data"
    }
   ],
   "source": [
    "#Avg number of minutes at home\n",
    "sns.histplot(data=stopMinAvg, x=\"avg home_minutes\", binwidth = 20, color='cornflowerblue')\n",
    "plt.ylabel('Number of users')\n",
    "plt.xlabel('Minutes')\n",
    "plt.xlim([0, 3000])\n",
    "plt.savefig('HomeMinAvg.png', bbox_inches = 'tight') #Save plot\n",
    "plt.show()"
   ]
  },
  {
   "cell_type": "code",
   "execution_count": 43,
   "metadata": {},
   "outputs": [
    {
     "data": {
      "text/plain": [
       "447.6261774056412"
      ]
     },
     "execution_count": 43,
     "metadata": {},
     "output_type": "execute_result"
    }
   ],
   "source": [
    "#25-quantile\n",
    "stopMinAvg['avg home_minutes'].quantile(q=0.25)"
   ]
  },
  {
   "cell_type": "code",
   "execution_count": 44,
   "metadata": {},
   "outputs": [
    {
     "data": {
      "text/plain": [
       "618.1940639269408"
      ]
     },
     "execution_count": 44,
     "metadata": {},
     "output_type": "execute_result"
    }
   ],
   "source": [
    "#median\n",
    "stopMinAvg['avg home_minutes'].median()"
   ]
  },
  {
   "cell_type": "code",
   "execution_count": 45,
   "metadata": {},
   "outputs": [
    {
     "data": {
      "text/plain": [
       "859.3723974902794"
      ]
     },
     "execution_count": 45,
     "metadata": {},
     "output_type": "execute_result"
    }
   ],
   "source": [
    "#75-quantile\n",
    "stopMinAvg['avg home_minutes'].quantile(q=0.75)"
   ]
  },
  {
   "cell_type": "code",
   "execution_count": 46,
   "metadata": {},
   "outputs": [
    {
     "data": {
      "image/png": "[encoded data removed]",
      "text/plain": [
       "<Figure size 1440x720 with 1 Axes>"
      ]
     },
     "metadata": {},
     "output_type": "display_data"
    }
   ],
   "source": [
    "#Avg number of minutes at work\n",
    "sns.histplot(data=stopMinAvg, x=\"avg work_minutes\", binwidth = 10, color='cornflowerblue')\n",
    "plt.ylabel('Number of users')\n",
    "plt.xlabel('Minutes')\n",
    "plt.xlim([0, 1600])\n",
    "plt.savefig('WorkMinAvg.png', bbox_inches = 'tight') #Save plot\n",
    "plt.show()"
   ]
  },
  {
   "cell_type": "code",
   "execution_count": 47,
   "metadata": {},
   "outputs": [
    {
     "data": {
      "text/plain": [
       "115.02083333333336"
      ]
     },
     "execution_count": 47,
     "metadata": {},
     "output_type": "execute_result"
    }
   ],
   "source": [
    "#25-quantile\n",
    "stopMinAvg['avg work_minutes'].quantile(q=0.25)"
   ]
  },
  {
   "cell_type": "code",
   "execution_count": 48,
   "metadata": {},
   "outputs": [
    {
     "data": {
      "text/plain": [
       "223.49846938775516"
      ]
     },
     "execution_count": 48,
     "metadata": {},
     "output_type": "execute_result"
    }
   ],
   "source": [
    "#median\n",
    "stopMinAvg['avg work_minutes'].median()"
   ]
  },
  {
   "cell_type": "code",
   "execution_count": 49,
   "metadata": {},
   "outputs": [
    {
     "data": {
      "text/plain": [
       "352.5666666666666"
      ]
     },
     "execution_count": 49,
     "metadata": {},
     "output_type": "execute_result"
    }
   ],
   "source": [
    "#75-quantile\n",
    "stopMinAvg['avg work_minutes'].quantile(q=0.75)"
   ]
  },
  {
   "cell_type": "code",
   "execution_count": 50,
   "metadata": {},
   "outputs": [
    {
     "data": {
      "image/png": "[encoded data removed]",
      "text/plain": [
       "<Figure size 1440x720 with 1 Axes>"
      ]
     },
     "metadata": {},
     "output_type": "display_data"
    }
   ],
   "source": [
    "#Avg number of minutes at poi\n",
    "sns.histplot(data=stopMinAvg, x=\"avg POI_minutes\", binwidth = 2, color='cornflowerblue')\n",
    "plt.ylabel('Number of users')\n",
    "plt.xlabel('Minutes')\n",
    "plt.xlim([0, 370])\n",
    "plt.savefig('POIMinAvg.png', bbox_inches = 'tight') #Save plot\n",
    "plt.show()"
   ]
  },
  {
   "cell_type": "code",
   "execution_count": 51,
   "metadata": {},
   "outputs": [
    {
     "data": {
      "text/plain": [
       "34.37976275787187"
      ]
     },
     "execution_count": 51,
     "metadata": {},
     "output_type": "execute_result"
    }
   ],
   "source": [
    "#25-quantile\n",
    "stopMinAvg['avg POI_minutes'].quantile(q=0.25)"
   ]
  },
  {
   "cell_type": "code",
   "execution_count": 52,
   "metadata": {},
   "outputs": [
    {
     "data": {
      "text/plain": [
       "48.31666666666665"
      ]
     },
     "execution_count": 52,
     "metadata": {},
     "output_type": "execute_result"
    }
   ],
   "source": [
    "#median\n",
    "stopMinAvg['avg POI_minutes'].median()"
   ]
  },
  {
   "cell_type": "code",
   "execution_count": 53,
   "metadata": {},
   "outputs": [
    {
     "data": {
      "text/plain": [
       "69.2443236714976"
      ]
     },
     "execution_count": 53,
     "metadata": {},
     "output_type": "execute_result"
    }
   ],
   "source": [
    "#75-quantile\n",
    "stopMinAvg['avg POI_minutes'].quantile(q=0.75)"
   ]
  },
  {
   "cell_type": "code",
   "execution_count": 54,
   "metadata": {},
   "outputs": [
    {
     "data": {
      "image/png": "[encoded data removed]",
      "text/plain": [
       "<Figure size 1440x720 with 1 Axes>"
      ]
     },
     "metadata": {},
     "output_type": "display_data"
    }
   ],
   "source": [
    "#Avg number of minutes at other\n",
    "sns.histplot(data=stopMinAvg, x=\"avg other_minutes\", binwidth = 4, color='cornflowerblue')\n",
    "plt.ylabel('Number of users')\n",
    "plt.xlabel('Minutes')\n",
    "plt.xlim([0, 800])\n",
    "plt.savefig('OtherMinAvg.png', bbox_inches = 'tight') #Save plot\n",
    "plt.show()"
   ]
  },
  {
   "cell_type": "code",
   "execution_count": 55,
   "metadata": {},
   "outputs": [
    {
     "data": {
      "text/plain": [
       "41.05693452380953"
      ]
     },
     "execution_count": 55,
     "metadata": {},
     "output_type": "execute_result"
    }
   ],
   "source": [
    "#25-quantile\n",
    "stopMinAvg['avg other_minutes'].quantile(q=0.25)"
   ]
  },
  {
   "cell_type": "code",
   "execution_count": 56,
   "metadata": {},
   "outputs": [
    {
     "data": {
      "text/plain": [
       "65.85964947089948"
      ]
     },
     "execution_count": 56,
     "metadata": {},
     "output_type": "execute_result"
    }
   ],
   "source": [
    "#median\n",
    "stopMinAvg['avg other_minutes'].median()"
   ]
  },
  {
   "cell_type": "code",
   "execution_count": 57,
   "metadata": {},
   "outputs": [
    {
     "data": {
      "text/plain": [
       "113.13097943722944"
      ]
     },
     "execution_count": 57,
     "metadata": {},
     "output_type": "execute_result"
    }
   ],
   "source": [
    "#75-quantile\n",
    "stopMinAvg['avg other_minutes'].quantile(q=0.75)"
   ]
  },
  {
   "cell_type": "code",
   "execution_count": 58,
   "metadata": {},
   "outputs": [
    {
     "data": {
      "image/png": "[encoded data removed]",
      "text/plain": [
       "<Figure size 1440x720 with 1 Axes>"
      ]
     },
     "metadata": {},
     "output_type": "display_data"
    }
   ],
   "source": [
    "#Avg number of minutes in total\n",
    "sns.histplot(data=stopMinAvg, x=\"avg total_minutes\", binwidth = 8, color='cornflowerblue')\n",
    "plt.ylabel('Number of users')\n",
    "plt.xlabel('Minutes')\n",
    "plt.savefig('TotalMinAvg.png', bbox_inches = 'tight') #Save plot\n",
    "plt.show()"
   ]
  },
  {
   "cell_type": "code",
   "execution_count": 59,
   "metadata": {},
   "outputs": [
    {
     "data": {
      "text/plain": [
       "227.07156244076586"
      ]
     },
     "execution_count": 59,
     "metadata": {},
     "output_type": "execute_result"
    }
   ],
   "source": [
    "#25-quantile\n",
    "stopMinAvg['avg total_minutes'].quantile(q=0.25)"
   ]
  },
  {
   "cell_type": "code",
   "execution_count": 60,
   "metadata": {},
   "outputs": [
    {
     "data": {
      "text/plain": [
       "309.64349909887255"
      ]
     },
     "execution_count": 60,
     "metadata": {},
     "output_type": "execute_result"
    }
   ],
   "source": [
    "#median\n",
    "stopMinAvg['avg total_minutes'].median()"
   ]
  },
  {
   "cell_type": "code",
   "execution_count": 61,
   "metadata": {},
   "outputs": [
    {
     "data": {
      "text/plain": [
       "426.27729822193254"
      ]
     },
     "execution_count": 61,
     "metadata": {},
     "output_type": "execute_result"
    }
   ],
   "source": [
    "#75-quantile\n",
    "stopMinAvg['avg total_minutes'].quantile(q=0.75)"
   ]
  },
  {
   "cell_type": "code",
   "execution_count": 62,
   "metadata": {},
   "outputs": [],
   "source": [
    "StopCatExplain = pd.DataFrame()\n",
    "StopCatExplain['home, work, poi'] = (stopMinutes['home']+stopMinutes['work']+stopMinutes['poi'])/Nmin"
   ]
  },
  {
   "cell_type": "code",
   "execution_count": 63,
   "metadata": {},
   "outputs": [],
   "source": [
    "StopCatExplain['other'] = stopMinutes['other']/Nmin"
   ]
  },
  {
   "cell_type": "code",
   "execution_count": 64,
   "metadata": {},
   "outputs": [
    {
     "data": {
      "text/html": [
       "<div>\n",
       "<style scoped>\n",
       "    .dataframe tbody tr th:only-of-type {\n",
       "        vertical-align: middle;\n",
       "    }\n",
       "\n",
       "    .dataframe tbody tr th {\n",
       "        vertical-align: top;\n",
       "    }\n",
       "\n",
       "    .dataframe thead th {\n",
       "        text-align: right;\n",
       "    }\n",
       "</style>\n",
       "<table border=\"1\" class=\"dataframe\">\n",
       "  <thead>\n",
       "    <tr style=\"text-align: right;\">\n",
       "      <th></th>\n",
       "      <th>home, work, poi</th>\n",
       "      <th>other</th>\n",
       "    </tr>\n",
       "    <tr>\n",
       "      <th>userId</th>\n",
       "      <th></th>\n",
       "      <th></th>\n",
       "    </tr>\n",
       "  </thead>\n",
       "  <tbody>\n",
       "    <tr>\n",
       "      <th>0</th>\n",
       "      <td>0.919534</td>\n",
       "      <td>0.014767</td>\n",
       "    </tr>\n",
       "    <tr>\n",
       "      <th>1</th>\n",
       "      <td>0.754208</td>\n",
       "      <td>0.057265</td>\n",
       "    </tr>\n",
       "    <tr>\n",
       "      <th>2</th>\n",
       "      <td>0.395376</td>\n",
       "      <td>0.020300</td>\n",
       "    </tr>\n",
       "    <tr>\n",
       "      <th>3</th>\n",
       "      <td>0.666800</td>\n",
       "      <td>0.049417</td>\n",
       "    </tr>\n",
       "    <tr>\n",
       "      <th>4</th>\n",
       "      <td>0.782689</td>\n",
       "      <td>0.022066</td>\n",
       "    </tr>\n",
       "    <tr>\n",
       "      <th>...</th>\n",
       "      <td>...</td>\n",
       "      <td>...</td>\n",
       "    </tr>\n",
       "    <tr>\n",
       "      <th>403726927883</th>\n",
       "      <td>0.293045</td>\n",
       "      <td>0.021585</td>\n",
       "    </tr>\n",
       "    <tr>\n",
       "      <th>403726927895</th>\n",
       "      <td>0.667502</td>\n",
       "      <td>0.071792</td>\n",
       "    </tr>\n",
       "    <tr>\n",
       "      <th>403726927896</th>\n",
       "      <td>0.301426</td>\n",
       "      <td>0.017981</td>\n",
       "    </tr>\n",
       "    <tr>\n",
       "      <th>403726927904</th>\n",
       "      <td>0.279415</td>\n",
       "      <td>0.053962</td>\n",
       "    </tr>\n",
       "    <tr>\n",
       "      <th>403726927905</th>\n",
       "      <td>0.900085</td>\n",
       "      <td>0.000000</td>\n",
       "    </tr>\n",
       "  </tbody>\n",
       "</table>\n",
       "<p>92724 rows × 2 columns</p>\n",
       "</div>"
      ],
      "text/plain": [
       "              home, work, poi     other\n",
       "userId                                 \n",
       "0                    0.919534  0.014767\n",
       "1                    0.754208  0.057265\n",
       "2                    0.395376  0.020300\n",
       "3                    0.666800  0.049417\n",
       "4                    0.782689  0.022066\n",
       "...                       ...       ...\n",
       "403726927883         0.293045  0.021585\n",
       "403726927895         0.667502  0.071792\n",
       "403726927896         0.301426  0.017981\n",
       "403726927904         0.279415  0.053962\n",
       "403726927905         0.900085  0.000000\n",
       "\n",
       "[92724 rows x 2 columns]"
      ]
     },
     "execution_count": 64,
     "metadata": {},
     "output_type": "execute_result"
    }
   ],
   "source": [
    "StopCatExplain"
   ]
  },
  {
   "cell_type": "code",
   "execution_count": 65,
   "metadata": {},
   "outputs": [],
   "source": [
    "#Create colors\n",
    "colors = [\"#6495ED\", \"#C54E57\"] #cornflower blue, dull red"
   ]
  },
  {
   "cell_type": "code",
   "execution_count": 66,
   "metadata": {},
   "outputs": [],
   "source": [
    "#set color palette\n",
    "sns.set_palette(sns.color_palette(colors))"
   ]
  },
  {
   "cell_type": "code",
   "execution_count": 67,
   "metadata": {},
   "outputs": [
    {
     "data": {
      "image/png": "[encoded data removed]",
      "text/plain": [
       "<Figure size 1440x720 with 1 Axes>"
      ]
     },
     "metadata": {},
     "output_type": "display_data"
    }
   ],
   "source": [
    "#explained time - home, work, poi vs. other. This is compared to the possible number of minutes(minutes in two months)\n",
    "sns.histplot(data=StopCatExplain, binwidth = 0.01)\n",
    "plt.ylabel('Number of users')\n",
    "plt.xlabel('Fraction of time')\n",
    "plt.savefig('explainedTimeCat.png', bbox_inches = 'tight') #Save plot\n",
    "plt.show()"
   ]
  },
  {
   "cell_type": "code",
   "execution_count": 68,
   "metadata": {},
   "outputs": [
    {
     "name": "stdout",
     "output_type": "stream",
     "text": [
      "0.6028746624228394\n",
      "0.009414448302469135\n"
     ]
    }
   ],
   "source": [
    "#25-quantile\n",
    "print(StopCatExplain['home, work, poi'].quantile(q=0.25))\n",
    "print(StopCatExplain['other'].quantile(q=0.25))"
   ]
  },
  {
   "cell_type": "code",
   "execution_count": 69,
   "metadata": {},
   "outputs": [
    {
     "name": "stdout",
     "output_type": "stream",
     "text": [
      "0.7515640432098765\n",
      "0.02296421682098766\n"
     ]
    }
   ],
   "source": [
    "#median\n",
    "print(StopCatExplain['home, work, poi'].median())\n",
    "print(StopCatExplain['other'].median())"
   ]
  },
  {
   "cell_type": "code",
   "execution_count": 70,
   "metadata": {},
   "outputs": [
    {
     "name": "stdout",
     "output_type": "stream",
     "text": [
      "0.8449072145061729\n",
      "0.048488040123456796\n"
     ]
    }
   ],
   "source": [
    "#75-quantile\n",
    "print(StopCatExplain['home, work, poi'].quantile(q=0.75))\n",
    "print(StopCatExplain['other'].quantile(q=0.75))"
   ]
  },
  {
   "cell_type": "code",
   "execution_count": 71,
   "metadata": {},
   "outputs": [],
   "source": [
    "explainedCat = pd.DataFrame()"
   ]
  },
  {
   "cell_type": "code",
   "execution_count": 72,
   "metadata": {},
   "outputs": [],
   "source": [
    "#how big a part of the explained time, that is home, work or POI\n",
    "explainedCat['home, work, poi'] = (stopMinutes['home']+stopMinutes['work']+stopMinutes['poi'])/stopMinutes['total']"
   ]
  },
  {
   "cell_type": "code",
   "execution_count": 73,
   "metadata": {},
   "outputs": [],
   "source": [
    "#how big a time of the explained time, that is other\n",
    "explainedCat['other'] = stopMinutes['other']/stopMinutes['total']"
   ]
  },
  {
   "cell_type": "code",
   "execution_count": 74,
   "metadata": {},
   "outputs": [
    {
     "data": {
      "image/png": "[encoded data removed]",
      "text/plain": [
       "<Figure size 1440x720 with 1 Axes>"
      ]
     },
     "metadata": {},
     "output_type": "display_data"
    }
   ],
   "source": [
    "#home, work, poi vs. other. This is based on the explained number of minutes\n",
    "sns.histplot(data=explainedCat, binwidth = 0.01)\n",
    "#sns.histplot(data=StopCatExplain, x=\"other\", binwidth = 0.01, color='red')\n",
    "plt.ylabel('Number of users')\n",
    "plt.xlabel('Explained time')\n",
    "plt.show()"
   ]
  },
  {
   "cell_type": "code",
   "execution_count": 75,
   "metadata": {},
   "outputs": [
    {
     "data": {
      "text/html": [
       "<div>\n",
       "<style scoped>\n",
       "    .dataframe tbody tr th:only-of-type {\n",
       "        vertical-align: middle;\n",
       "    }\n",
       "\n",
       "    .dataframe tbody tr th {\n",
       "        vertical-align: top;\n",
       "    }\n",
       "\n",
       "    .dataframe thead th {\n",
       "        text-align: right;\n",
       "    }\n",
       "</style>\n",
       "<table border=\"1\" class=\"dataframe\">\n",
       "  <thead>\n",
       "    <tr style=\"text-align: right;\">\n",
       "      <th>stop_type</th>\n",
       "      <th>home</th>\n",
       "      <th>other</th>\n",
       "      <th>poi</th>\n",
       "      <th>work</th>\n",
       "      <th>total</th>\n",
       "    </tr>\n",
       "    <tr>\n",
       "      <th>userId</th>\n",
       "      <th></th>\n",
       "      <th></th>\n",
       "      <th></th>\n",
       "      <th></th>\n",
       "      <th></th>\n",
       "    </tr>\n",
       "  </thead>\n",
       "  <tbody>\n",
       "    <tr>\n",
       "      <th>0</th>\n",
       "      <td>73997.416667</td>\n",
       "      <td>1275.850000</td>\n",
       "      <td>3095.300000</td>\n",
       "      <td>2355.033333</td>\n",
       "      <td>80723.600000</td>\n",
       "    </tr>\n",
       "    <tr>\n",
       "      <th>1</th>\n",
       "      <td>48088.700000</td>\n",
       "      <td>4947.666667</td>\n",
       "      <td>1363.366667</td>\n",
       "      <td>15711.500000</td>\n",
       "      <td>70111.233333</td>\n",
       "    </tr>\n",
       "    <tr>\n",
       "      <th>2</th>\n",
       "      <td>31875.783333</td>\n",
       "      <td>1753.916667</td>\n",
       "      <td>2284.700000</td>\n",
       "      <td>0.000000</td>\n",
       "      <td>35914.400000</td>\n",
       "    </tr>\n",
       "    <tr>\n",
       "      <th>3</th>\n",
       "      <td>39531.566667</td>\n",
       "      <td>4269.650000</td>\n",
       "      <td>11341.983333</td>\n",
       "      <td>6737.966667</td>\n",
       "      <td>61881.166667</td>\n",
       "    </tr>\n",
       "    <tr>\n",
       "      <th>4</th>\n",
       "      <td>52730.050000</td>\n",
       "      <td>1906.516667</td>\n",
       "      <td>13029.483333</td>\n",
       "      <td>1864.833333</td>\n",
       "      <td>69530.883333</td>\n",
       "    </tr>\n",
       "    <tr>\n",
       "      <th>...</th>\n",
       "      <td>...</td>\n",
       "      <td>...</td>\n",
       "      <td>...</td>\n",
       "      <td>...</td>\n",
       "      <td>...</td>\n",
       "    </tr>\n",
       "    <tr>\n",
       "      <th>403726927883</th>\n",
       "      <td>23563.100000</td>\n",
       "      <td>1864.933333</td>\n",
       "      <td>533.566667</td>\n",
       "      <td>1222.433333</td>\n",
       "      <td>27184.033333</td>\n",
       "    </tr>\n",
       "    <tr>\n",
       "      <th>403726927895</th>\n",
       "      <td>56771.533333</td>\n",
       "      <td>6202.850000</td>\n",
       "      <td>806.150000</td>\n",
       "      <td>94.500000</td>\n",
       "      <td>63875.033333</td>\n",
       "    </tr>\n",
       "    <tr>\n",
       "      <th>403726927896</th>\n",
       "      <td>19862.866667</td>\n",
       "      <td>1553.516667</td>\n",
       "      <td>1152.733333</td>\n",
       "      <td>5027.600000</td>\n",
       "      <td>27596.716667</td>\n",
       "    </tr>\n",
       "    <tr>\n",
       "      <th>403726927904</th>\n",
       "      <td>12276.566667</td>\n",
       "      <td>4662.300000</td>\n",
       "      <td>0.000000</td>\n",
       "      <td>11864.916667</td>\n",
       "      <td>28803.783333</td>\n",
       "    </tr>\n",
       "    <tr>\n",
       "      <th>403726927905</th>\n",
       "      <td>76423.833333</td>\n",
       "      <td>0.000000</td>\n",
       "      <td>1343.516667</td>\n",
       "      <td>0.000000</td>\n",
       "      <td>77767.350000</td>\n",
       "    </tr>\n",
       "  </tbody>\n",
       "</table>\n",
       "<p>92724 rows × 5 columns</p>\n",
       "</div>"
      ],
      "text/plain": [
       "stop_type             home        other           poi          work  \\\n",
       "userId                                                                \n",
       "0             73997.416667  1275.850000   3095.300000   2355.033333   \n",
       "1             48088.700000  4947.666667   1363.366667  15711.500000   \n",
       "2             31875.783333  1753.916667   2284.700000      0.000000   \n",
       "3             39531.566667  4269.650000  11341.983333   6737.966667   \n",
       "4             52730.050000  1906.516667  13029.483333   1864.833333   \n",
       "...                    ...          ...           ...           ...   \n",
       "403726927883  23563.100000  1864.933333    533.566667   1222.433333   \n",
       "403726927895  56771.533333  6202.850000    806.150000     94.500000   \n",
       "403726927896  19862.866667  1553.516667   1152.733333   5027.600000   \n",
       "403726927904  12276.566667  4662.300000      0.000000  11864.916667   \n",
       "403726927905  76423.833333     0.000000   1343.516667      0.000000   \n",
       "\n",
       "stop_type            total  \n",
       "userId                      \n",
       "0             80723.600000  \n",
       "1             70111.233333  \n",
       "2             35914.400000  \n",
       "3             61881.166667  \n",
       "4             69530.883333  \n",
       "...                    ...  \n",
       "403726927883  27184.033333  \n",
       "403726927895  63875.033333  \n",
       "403726927896  27596.716667  \n",
       "403726927904  28803.783333  \n",
       "403726927905  77767.350000  \n",
       "\n",
       "[92724 rows x 5 columns]"
      ]
     },
     "execution_count": 75,
     "metadata": {},
     "output_type": "execute_result"
    }
   ],
   "source": [
    "stopMinutes"
   ]
  },
  {
   "cell_type": "code",
   "execution_count": 76,
   "metadata": {},
   "outputs": [
    {
     "name": "stdout",
     "output_type": "stream",
     "text": [
      "min:\n",
      "0.0\n",
      "0.0\n",
      "0.0\n",
      "0.0\n",
      "1032.2500000000002\n",
      "max:\n",
      "86314.30000000003\n",
      "61740.43333333335\n",
      "38574.64999999998\n",
      "51793.966666666645\n",
      "86398.1\n"
     ]
    }
   ],
   "source": [
    "#min and max minutes in total\n",
    "print(\"min:\")\n",
    "print(min(stopMinutes['home']))\n",
    "print(min(stopMinutes['work']))\n",
    "print(min(stopMinutes['poi']))\n",
    "print(min(stopMinutes['other']))\n",
    "print(min(stopMinutes['total']))\n",
    "\n",
    "print(\"max:\")\n",
    "print(max(stopMinutes['home']))\n",
    "print(max(stopMinutes['work']))\n",
    "print(max(stopMinutes['poi']))\n",
    "print(max(stopMinutes['other']))\n",
    "print(max(stopMinutes['total']))"
   ]
  },
  {
   "cell_type": "code",
   "execution_count": 77,
   "metadata": {},
   "outputs": [
    {
     "name": "stdout",
     "output_type": "stream",
     "text": [
      "min:\n",
      "965\n",
      "2\n",
      "1082\n",
      "220\n",
      "80831\n",
      "max:\n",
      "11547\n",
      "70540\n",
      "49212\n",
      "62514\n",
      "18505\n"
     ]
    }
   ],
   "source": [
    "#position of min and max\n",
    "print(\"min:\")\n",
    "print(np.argmin(stopMinutes['home']))\n",
    "print(np.argmin(stopMinutes['work']))\n",
    "print(np.argmin(stopMinutes['poi']))\n",
    "print(np.argmin(stopMinutes['other']))\n",
    "print(np.argmin(stopMinutes['total']))\n",
    "\n",
    "print(\"max:\")\n",
    "print(np.argmax(stopMinutes['home']))\n",
    "print(np.argmax(stopMinutes['work']))\n",
    "print(np.argmax(stopMinutes['poi']))\n",
    "print(np.argmax(stopMinutes['other']))\n",
    "print(np.argmax(stopMinutes['total']))"
   ]
  },
  {
   "cell_type": "code",
   "execution_count": 78,
   "metadata": {},
   "outputs": [
    {
     "name": "stdout",
     "output_type": "stream",
     "text": [
      "min:\n",
      "8.508333333333335\n",
      "5.0\n",
      "5.1\n",
      "5.0\n",
      "13.405844155844159\n",
      "max:\n",
      "10180.663888888888\n",
      "21200.1\n",
      "5974.766666666666\n",
      "4058.9333333333334\n",
      "1433.7713888888895\n"
     ]
    }
   ],
   "source": [
    "#min and max in average\n",
    "print(\"min:\")\n",
    "print(min(stopMinAvg['avg home_minutes']))\n",
    "print(min(stopMinAvg['avg work_minutes']))\n",
    "print(min(stopMinAvg['avg POI_minutes']))\n",
    "print(min(stopMinAvg['avg other_minutes']))\n",
    "print(min(stopMinAvg['avg total_minutes']))\n",
    "\n",
    "print(\"max:\")\n",
    "print(max(stopMinAvg['avg home_minutes']))\n",
    "print(max(stopMinAvg['avg work_minutes']))\n",
    "print(max(stopMinAvg['avg POI_minutes']))\n",
    "print(max(stopMinAvg['avg other_minutes']))\n",
    "print(max(stopMinAvg['avg total_minutes']))"
   ]
  }
 ],
 "metadata": {
  "kernelspec": {
   "display_name": "Python 3",
   "language": "python",
   "name": "python3"
  },
  "language_info": {
   "codemirror_mode": {
    "name": "ipython",
    "version": 3
   },
   "file_extension": ".py",
   "mimetype": "text/x-python",
   "name": "python",
   "nbconvert_exporter": "python",
   "pygments_lexer": "ipython3",
   "version": "3.7.6"
  }
 },
 "nbformat": 4,
 "nbformat_minor": 4
}
