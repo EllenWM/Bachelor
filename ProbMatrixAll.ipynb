{
 "cells": [
  {
   "cell_type": "code",
   "execution_count": 1,
   "metadata": {},
   "outputs": [],
   "source": [
    "import os\n",
    "import pandas as pd"
   ]
  },
  {
   "cell_type": "code",
   "execution_count": 2,
   "metadata": {},
   "outputs": [],
   "source": [
    "#load the probability matrices\n",
    "os.chdir(\"/Users/Ellen/Documents/Dokumenter/DTU/7. Semester/Bachelor/CSV files\")\n",
    "\n",
    "p1 = pd.read_csv(\"p1All.csv\", header = None)\n",
    "p2 = pd.read_csv(\"p2All.csv\", header = None)\n",
    "p3 = pd.read_csv(\"p3All.csv\", header = None)\n",
    "p4 = pd.read_csv(\"p4All.csv\", header = None)\n",
    "p5 = pd.read_csv(\"p5All.csv\", header = None)\n",
    "p6 = pd.read_csv(\"p6All.csv\", header = None)\n",
    "p7 = pd.read_csv(\"p7All.csv\", header = None)\n",
    "p8 = pd.read_csv(\"p8All.csv\", header = None)\n",
    "p9 = pd.read_csv(\"p9All.csv\", header = None)\n",
    "p10 = pd.read_csv(\"p10All.csv\", header = None)"
   ]
  },
  {
   "cell_type": "code",
   "execution_count": 3,
   "metadata": {},
   "outputs": [],
   "source": [
    "dfP = pd.concat([p1, p2, p3, p4, p5, p6, p7, p8, p9, p10]).reset_index(drop=True)"
   ]
  },
  {
   "cell_type": "code",
   "execution_count": 4,
   "metadata": {},
   "outputs": [],
   "source": [
    "dfP.to_csv('ProbAll.csv', index=False)"
   ]
  }
 ],
 "metadata": {
  "kernelspec": {
   "display_name": "Python 3",
   "language": "python",
   "name": "python3"
  },
  "language_info": {
   "codemirror_mode": {
    "name": "ipython",
    "version": 3
   },
   "file_extension": ".py",
   "mimetype": "text/x-python",
   "name": "python",
   "nbconvert_exporter": "python",
   "pygments_lexer": "ipython3",
   "version": "3.7.6"
  }
 },
 "nbformat": 4,
 "nbformat_minor": 4
}
