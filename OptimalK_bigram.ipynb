{
 "cells": [
  {
   "cell_type": "code",
   "execution_count": 1,
   "metadata": {},
   "outputs": [],
   "source": [
    "import os\n",
    "import pandas as pd\n",
    "import numpy as np\n",
    "from sklearn.cluster import KMeans\n",
    "import math"
   ]
  },
  {
   "cell_type": "code",
   "execution_count": 2,
   "metadata": {},
   "outputs": [],
   "source": [
    "os.chdir(\"/Users/Ellen/Documents/Dokumenter/DTU/7. Semester/Bachelor/CSV files\")\n",
    "\n",
    "poiNames = pd.read_csv(\"POInames.csv\")\n",
    "dfProb = pd.read_csv(\"Biprob.csv\")"
   ]
  },
  {
   "cell_type": "code",
   "execution_count": 3,
   "metadata": {},
   "outputs": [],
   "source": [
    "poiStop = poiNames['StopName'].tolist()\n",
    "stop = ['home','work','other']\n",
    "\n",
    "#List with all stops\n",
    "stop.extend(poiStop)"
   ]
  },
  {
   "cell_type": "code",
   "execution_count": 4,
   "metadata": {},
   "outputs": [],
   "source": [
    "#probability dataframe to matrix\n",
    "p = dfProb.to_numpy()"
   ]
  },
  {
   "cell_type": "code",
   "execution_count": 5,
   "metadata": {},
   "outputs": [],
   "source": [
    "#selected stops\n",
    "stopSelect = ['home', 'work', 'other', 'School', 'Restaurant', 'University', 'Bar', 'Train Station']"
   ]
  },
  {
   "cell_type": "code",
   "execution_count": 6,
   "metadata": {},
   "outputs": [],
   "source": [
    "#stopIndex of the 10 most probable stops from home\n",
    "stopIndex = dfProb.sum(axis=0).nlargest(10).index"
   ]
  },
  {
   "cell_type": "code",
   "execution_count": 7,
   "metadata": {},
   "outputs": [],
   "source": [
    "#name of the 10 most probable stops from home\n",
    "largeStop = []\n",
    "\n",
    "for i in range(0,len(stopIndex)):\n",
    "    largeStop.append(stop[int(stopIndex[i])])"
   ]
  },
  {
   "cell_type": "code",
   "execution_count": 8,
   "metadata": {},
   "outputs": [],
   "source": [
    "#merge the two lists with the selected stops and the most probable stops\n",
    "stopSelect.extend(largeStop)"
   ]
  },
  {
   "cell_type": "code",
   "execution_count": 9,
   "metadata": {},
   "outputs": [],
   "source": [
    "#unique stops from the selected and most probable stops. \n",
    "#this is the stops that will be used to the clustering\n",
    "StopList = list(set(stopSelect))"
   ]
  },
  {
   "cell_type": "code",
   "execution_count": 10,
   "metadata": {},
   "outputs": [],
   "source": [
    "#the index of the stops that should be used for the clustering\n",
    "StopIndex = []\n",
    "for i in range(0, len(StopList)):\n",
    "    StopIndex.append(stop.index(StopList[i]))"
   ]
  },
  {
   "cell_type": "code",
   "execution_count": 11,
   "metadata": {},
   "outputs": [],
   "source": [
    "#probability matrix with all users, and the selected stop types\n",
    "pSelect = p[:,StopIndex]"
   ]
  },
  {
   "cell_type": "code",
   "execution_count": 12,
   "metadata": {},
   "outputs": [],
   "source": [
    "#pselect to dataframe and save as csv\n",
    "pd.DataFrame(pSelect).to_csv('pSelect.csv', index = False)"
   ]
  },
  {
   "cell_type": "code",
   "execution_count": 13,
   "metadata": {},
   "outputs": [],
   "source": [
    "#StopList(the names) to dataframe and save as csv\n",
    "pd.DataFrame(StopList).rename(columns={0: 'Stop'}).to_csv('StopList.csv', index = False)"
   ]
  },
  {
   "cell_type": "code",
   "execution_count": 14,
   "metadata": {},
   "outputs": [],
   "source": [
    "#set seed\n",
    "# Gap Statistic for K means\n",
    "def optimalK(data, nrefs, maxClusters):\n",
    "    \"\"\"\n",
    "    Calculates KMeans optimal K using Gap Statistic \n",
    "    Params:\n",
    "        data: ndarry of shape (n_samples, n_features)\n",
    "        nrefs: number of sample reference datasets to create\n",
    "        maxClusters: Maximum number of clusters to test for\n",
    "    Returns: (gaps, optimalK)\n",
    "    \"\"\"\n",
    "    gaps = np.zeros((len(range(1, maxClusters+1)),))\n",
    "    resultsdf = pd.DataFrame({'clusterCount':[], 'gap':[], 's_k':[], 'gap-s_k':[]})\n",
    "    for gap_index, k in enumerate(range(1, maxClusters+1)):\n",
    "\n",
    "# Holder for reference dispersion results\n",
    "        refDisps = np.zeros(nrefs)\n",
    "\n",
    "# For n references, generate random sample and perform kmeans getting resulting dispersion of each loop\n",
    "        for i in range(nrefs):\n",
    "            \n",
    "            # Create new random reference set\n",
    "            randomReference = np.zeros(np.shape(data))\n",
    "            for j in range (0,np.shape(data)[1]):\n",
    "                low = min(data[:,j])\n",
    "                high = max(data[:,j])\n",
    "                randomReference[:,j] = np.random.uniform(low, high, size=len(data))        \n",
    "            \n",
    "            # Fit to it\n",
    "            km = KMeans(k)\n",
    "            km.fit(randomReference)\n",
    "            \n",
    "            #refDisp \n",
    "            refDisps[i] = km.inertia_\n",
    "              \n",
    "\n",
    "# Fit cluster to original data and create dispersion\n",
    "        km = KMeans(k)\n",
    "        km.fit(data)\n",
    "        \n",
    "        origDisp = km.inertia_\n",
    "# Calculate gap statistic\n",
    "        gap = (1/nrefs)*np.sum(np.log(refDisps)) - np.log(origDisp)\n",
    "        l =(1/nrefs)*np.sum(np.log(refDisps))\n",
    "        sd_k = ((1/nrefs)*np.sum((np.log(refDisps)-l)**2))**(1/2)\n",
    "        s_k = sd_k*math.sqrt(1+1/nrefs)\n",
    "        print(k, \" Gap: \", gap, \" s_k \", s_k)\n",
    "        \n",
    "# Assign this loop's gap statistic to gaps\n",
    "        gaps[gap_index] = gap\n",
    "    \n",
    "        resultsdf = resultsdf.append({'clusterCount':k, 'gap':gap, 's_k':s_k, 'gap-s_k':gap-s_k, 'wss':origDisp}, ignore_index=True)\n",
    "    return (gaps.argmax() + 1, resultsdf)"
   ]
  },
  {
   "cell_type": "code",
   "execution_count": 15,
   "metadata": {},
   "outputs": [
    {
     "name": "stdout",
     "output_type": "stream",
     "text": [
      "1  Gap:  1.9274053165602503  s_k  0.0011946881817621912\n",
      "2  Gap:  2.324277060949047  s_k  0.0009444814646489825\n",
      "3  Gap:  2.5625902200618977  s_k  0.0007956512885448796\n",
      "4  Gap:  2.6706754193463826  s_k  0.0008824780471871749\n",
      "5  Gap:  2.7514022761462584  s_k  0.0007345819389902171\n",
      "6  Gap:  2.811932662164086  s_k  0.0007037514363361306\n",
      "7  Gap:  2.8665358203453284  s_k  0.0007014448941576204\n",
      "8  Gap:  2.9088101969829667  s_k  0.0009277160817020997\n",
      "9  Gap:  2.9360487486334055  s_k  0.0006056032667683121\n",
      "10  Gap:  2.9544526151847057  s_k  0.001056794460244449\n",
      "11  Gap:  2.9794520083646523  s_k  0.0008801211466050075\n",
      "12  Gap:  3.000461041259147  s_k  0.0008003232800707165\n",
      "13  Gap:  3.019604756616351  s_k  0.0008664534268694027\n",
      "14  Gap:  3.0370675336592967  s_k  0.0006627837082962976\n",
      "15  Gap:  3.0531840690777106  s_k  0.0008459756549141588\n",
      "16  Gap:  3.0660575958919356  s_k  0.0008498907754576768\n",
      "17  Gap:  3.0774998600138366  s_k  0.0008085684415643222\n",
      "18  Gap:  3.0901532379518306  s_k  0.0007395161598125032\n",
      "19  Gap:  3.1017133660979983  s_k  0.0006987248122233476\n",
      "20  Gap:  3.1157453087228193  s_k  0.0008308528861725457\n",
      "21  Gap:  3.125945506503414  s_k  0.0008669714717214524\n",
      "22  Gap:  3.134653568614138  s_k  0.0008412228175043492\n",
      "23  Gap:  3.146440726794986  s_k  0.0005247501302513082\n",
      "24  Gap:  3.1507600150389052  s_k  0.0010649989063993511\n",
      "25  Gap:  3.1628531685104715  s_k  0.0012004700232564462\n",
      "26  Gap:  3.1715761112471013  s_k  0.0006527730400871794\n",
      "27  Gap:  3.180432640432217  s_k  0.0008619753102619704\n",
      "28  Gap:  3.192771635518266  s_k  0.0006790940163118895\n",
      "29  Gap:  3.1992560891844635  s_k  0.0008698679643007713\n",
      "30  Gap:  3.2046969065871522  s_k  0.0011206596779492258\n",
      "31  Gap:  3.2093253351192095  s_k  0.0008646733967876894\n",
      "32  Gap:  3.2134538297398736  s_k  0.0010627953003719047\n",
      "33  Gap:  3.218806836513319  s_k  0.0009410661449523872\n",
      "34  Gap:  3.229394723173111  s_k  0.0008685376530059817\n",
      "35  Gap:  3.2363644416023094  s_k  0.001031963965958341\n",
      "36  Gap:  3.244966602113945  s_k  0.0008304600442409971\n",
      "37  Gap:  3.2494721674293157  s_k  0.0010179592128780521\n",
      "38  Gap:  3.258704121251495  s_k  0.0010467257597725238\n",
      "39  Gap:  3.2605759215561854  s_k  0.0008028960180629881\n",
      "40  Gap:  3.271986404001642  s_k  0.000944741693036457\n",
      "41  Gap:  3.27712767622128  s_k  0.000741234671460632\n",
      "42  Gap:  3.2814001077838375  s_k  0.0009573767028072462\n",
      "43  Gap:  3.2873798058640435  s_k  0.0007691065851967898\n",
      "44  Gap:  3.2924618619986896  s_k  0.00042347588644055\n",
      "45  Gap:  3.296798309707599  s_k  0.0006644207295125281\n",
      "46  Gap:  3.299511033114248  s_k  0.0007897358622837381\n",
      "47  Gap:  3.3033269515661168  s_k  0.0007669888507197116\n",
      "48  Gap:  3.309734443150772  s_k  0.0008594548002902305\n",
      "49  Gap:  3.313135908589058  s_k  0.0009011991453870958\n",
      "50  Gap:  3.3196393188781412  s_k  0.000859052076167037\n",
      "51  Gap:  3.3171597289478196  s_k  0.0008535437633856175\n",
      "52  Gap:  3.3286174910760806  s_k  0.0010726482087003901\n",
      "53  Gap:  3.3298318781272824  s_k  0.001201400491341972\n",
      "54  Gap:  3.335356572839162  s_k  0.0009583891361710244\n",
      "55  Gap:  3.3409754074029516  s_k  0.0007086546387125361\n",
      "56  Gap:  3.341398295002535  s_k  0.0008470993517342969\n",
      "57  Gap:  3.3451858579536626  s_k  0.0011510291335981822\n",
      "58  Gap:  3.3486554755557547  s_k  0.0010025658662745022\n",
      "59  Gap:  3.35324274503684  s_k  0.0009047689746693997\n",
      "60  Gap:  3.3575392229907735  s_k  0.0010026135043374484\n"
     ]
    }
   ],
   "source": [
    "score_g, df = optimalK(pSelect, nrefs=20, maxClusters=60)"
   ]
  },
  {
   "cell_type": "code",
   "execution_count": 16,
   "metadata": {},
   "outputs": [],
   "source": [
    "np.savetxt('gapSelect.csv', df, delimiter=\",\")"
   ]
  },
  {
   "cell_type": "code",
   "execution_count": 17,
   "metadata": {},
   "outputs": [
    {
     "data": {
      "text/plain": [
       "[50, 55]"
      ]
     },
     "execution_count": 17,
     "metadata": {},
     "output_type": "execute_result"
    }
   ],
   "source": [
    "#find the number of clusters, where gap(k) >= gap(k+1)-s_k\n",
    "#gap1\n",
    "cluster = []\n",
    "for i in range(df.shape[0]-1):\n",
    "    if df['gap'][i] >= df['gap-s_k'][i+1]:\n",
    "        #cluster.append(i)\n",
    "        cluster.append(i+1)\n",
    "        \n",
    "cluster"
   ]
  }
 ],
 "metadata": {
  "kernelspec": {
   "display_name": "Python 3",
   "language": "python",
   "name": "python3"
  },
  "language_info": {
   "codemirror_mode": {
    "name": "ipython",
    "version": 3
   },
   "file_extension": ".py",
   "mimetype": "text/x-python",
   "name": "python",
   "nbconvert_exporter": "python",
   "pygments_lexer": "ipython3",
   "version": "3.7.6"
  }
 },
 "nbformat": 4,
 "nbformat_minor": 4
}
