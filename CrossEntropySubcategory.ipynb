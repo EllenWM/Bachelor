{
 "cells": [
  {
   "cell_type": "markdown",
   "metadata": {},
   "source": [
    "Cross-entropy for stop subcategory. Only 1 alter(so not mutual cross-Entropy)"
   ]
  },
  {
   "cell_type": "code",
   "execution_count": 1,
   "metadata": {},
   "outputs": [],
   "source": [
    "import os\n",
    "import pandas as pd\n",
    "import numpy as np\n",
    "import math\n",
    "import matplotlib.pyplot as plt\n",
    "plt.rcParams['figure.figsize'] = [20, 10]\n",
    "import seaborn as sns"
   ]
  },
  {
   "cell_type": "code",
   "execution_count": 2,
   "metadata": {},
   "outputs": [],
   "source": [
    "#load of files\n",
    "os.chdir(\"/Users/Ellen/Documents/Dokumenter/DTU/7. Semester/Bachelor\")\n",
    "\n",
    "#load data\n",
    "data = pd.read_csv(\"dataWNames.csv\")\n",
    "\n",
    "os.chdir(\"/Users/Ellen/Documents/Dokumenter/DTU/7. Semester/Bachelor/CSV files\")\n",
    "\n",
    "#load probability matrix\n",
    "#p = pd.read_csv(\"ProbAll.csv\")\n",
    "\n",
    "label = pd.read_csv(\"labels.csv\").rename(columns={\"0\": 'Label'}) #load probability matrix"
   ]
  },
  {
   "cell_type": "code",
   "execution_count": 3,
   "metadata": {},
   "outputs": [
    {
     "data": {
      "text/html": [
       "<div>\n",
       "<style scoped>\n",
       "    .dataframe tbody tr th:only-of-type {\n",
       "        vertical-align: middle;\n",
       "    }\n",
       "\n",
       "    .dataframe tbody tr th {\n",
       "        vertical-align: top;\n",
       "    }\n",
       "\n",
       "    .dataframe thead th {\n",
       "        text-align: right;\n",
       "    }\n",
       "</style>\n",
       "<table border=\"1\" class=\"dataframe\">\n",
       "  <thead>\n",
       "    <tr style=\"text-align: right;\">\n",
       "      <th></th>\n",
       "      <th>s_rand</th>\n",
       "      <th>s_unc</th>\n",
       "      <th>s_actual</th>\n",
       "      <th>diff</th>\n",
       "    </tr>\n",
       "  </thead>\n",
       "  <tbody>\n",
       "    <tr>\n",
       "      <th>0</th>\n",
       "      <td>4.584963</td>\n",
       "      <td>3.073829</td>\n",
       "      <td>2.661451</td>\n",
       "      <td>-0.419526</td>\n",
       "    </tr>\n",
       "    <tr>\n",
       "      <th>1</th>\n",
       "      <td>3.700440</td>\n",
       "      <td>2.486614</td>\n",
       "      <td>1.971100</td>\n",
       "      <td>-0.467333</td>\n",
       "    </tr>\n",
       "    <tr>\n",
       "      <th>2</th>\n",
       "      <td>4.584963</td>\n",
       "      <td>2.691966</td>\n",
       "      <td>2.279918</td>\n",
       "      <td>-0.502740</td>\n",
       "    </tr>\n",
       "    <tr>\n",
       "      <th>3</th>\n",
       "      <td>5.044394</td>\n",
       "      <td>3.416711</td>\n",
       "      <td>2.666555</td>\n",
       "      <td>-0.471383</td>\n",
       "    </tr>\n",
       "    <tr>\n",
       "      <th>4</th>\n",
       "      <td>5.169925</td>\n",
       "      <td>3.594454</td>\n",
       "      <td>2.607322</td>\n",
       "      <td>-0.495675</td>\n",
       "    </tr>\n",
       "    <tr>\n",
       "      <th>...</th>\n",
       "      <td>...</td>\n",
       "      <td>...</td>\n",
       "      <td>...</td>\n",
       "      <td>...</td>\n",
       "    </tr>\n",
       "    <tr>\n",
       "      <th>92719</th>\n",
       "      <td>2.807355</td>\n",
       "      <td>1.993962</td>\n",
       "      <td>1.843522</td>\n",
       "      <td>-0.343324</td>\n",
       "    </tr>\n",
       "    <tr>\n",
       "      <th>92720</th>\n",
       "      <td>3.169925</td>\n",
       "      <td>1.619439</td>\n",
       "      <td>0.874660</td>\n",
       "      <td>-0.724076</td>\n",
       "    </tr>\n",
       "    <tr>\n",
       "      <th>92721</th>\n",
       "      <td>2.321928</td>\n",
       "      <td>1.435747</td>\n",
       "      <td>1.137616</td>\n",
       "      <td>-0.510056</td>\n",
       "    </tr>\n",
       "    <tr>\n",
       "      <th>92722</th>\n",
       "      <td>1.584963</td>\n",
       "      <td>1.121641</td>\n",
       "      <td>1.443609</td>\n",
       "      <td>-0.089184</td>\n",
       "    </tr>\n",
       "    <tr>\n",
       "      <th>92723</th>\n",
       "      <td>2.807355</td>\n",
       "      <td>1.100148</td>\n",
       "      <td>1.296205</td>\n",
       "      <td>-0.538282</td>\n",
       "    </tr>\n",
       "  </tbody>\n",
       "</table>\n",
       "<p>92724 rows × 4 columns</p>\n",
       "</div>"
      ],
      "text/plain": [
       "         s_rand     s_unc  s_actual      diff\n",
       "0      4.584963  3.073829  2.661451 -0.419526\n",
       "1      3.700440  2.486614  1.971100 -0.467333\n",
       "2      4.584963  2.691966  2.279918 -0.502740\n",
       "3      5.044394  3.416711  2.666555 -0.471383\n",
       "4      5.169925  3.594454  2.607322 -0.495675\n",
       "...         ...       ...       ...       ...\n",
       "92719  2.807355  1.993962  1.843522 -0.343324\n",
       "92720  3.169925  1.619439  0.874660 -0.724076\n",
       "92721  2.321928  1.435747  1.137616 -0.510056\n",
       "92722  1.584963  1.121641  1.443609 -0.089184\n",
       "92723  2.807355  1.100148  1.296205 -0.538282\n",
       "\n",
       "[92724 rows x 4 columns]"
      ]
     },
     "execution_count": 3,
     "metadata": {},
     "output_type": "execute_result"
    }
   ],
   "source": [
    "entropy = pd.read_csv(\"entropyBigram.csv\")\n",
    "entropy"
   ]
  },
  {
   "cell_type": "code",
   "execution_count": 4,
   "metadata": {},
   "outputs": [],
   "source": [
    "user = data['userId'].unique().tolist()"
   ]
  },
  {
   "cell_type": "code",
   "execution_count": 5,
   "metadata": {},
   "outputs": [],
   "source": [
    "label['userId'] = user"
   ]
  },
  {
   "cell_type": "code",
   "execution_count": 6,
   "metadata": {},
   "outputs": [],
   "source": [
    "def contains(small, big):\n",
    "    try:\n",
    "        big.tostring().index(small.tostring())//big.itemsize\n",
    "        return True\n",
    "    except ValueError:\n",
    "        return False\n",
    "\n",
    "def cross_entropy(A, B):\n",
    "    n = min(len(A), len(B))\n",
    "    sum_lambda = 0\n",
    "\n",
    "    for i in range(0, n):\n",
    "        sequence = B[:i]\n",
    "        \n",
    "        for j in range(i+1, n+1):\n",
    "            s = A[i:j]\n",
    "            if contains(s, sequence) != True:\n",
    "                sum_lambda += len(s)\n",
    "                break\n",
    "    \n",
    "    h = (n*math.log2(n))/(sum_lambda)\n",
    "    return h"
   ]
  },
  {
   "cell_type": "code",
   "execution_count": 7,
   "metadata": {},
   "outputs": [],
   "source": [
    "#stop2 as the category\n",
    "data['stop2'] = data['stop2'].astype('category')\n",
    "\n",
    "#label encoding\n",
    "data['Stop_Cat'] = data['stop2'].cat.codes"
   ]
  },
  {
   "cell_type": "code",
   "execution_count": 8,
   "metadata": {},
   "outputs": [],
   "source": [
    "crossEntropy = np.zeros(len(user))\n",
    "for u in user:\n",
    "    n = 1\n",
    "    ego = label[label.userId == u] #df with the user(ego) \n",
    "    c = ego['Label'].iloc[0] #cluster label for the user\n",
    "    cluster = label[label.Label == c] #userID's for users in same cluster\n",
    "    \n",
    "    alters = cluster[~cluster['userId'].isin(ego['userId'].tolist())] #all in the cluster except the ego\n",
    "    nAlters = alters.sample(n)['userId'].tolist() #n random alters, their userID in a list\n",
    "    egoStop = data[data.userId == ego['userId'].iloc[0]]['Stop_Cat'].values\n",
    "    alterStop = data[data['userId'].isin(nAlters)]['Stop_Cat'].values\n",
    "    crossEntropy[user.index(u)] = cross_entropy(egoStop, alterStop)"
   ]
  },
  {
   "cell_type": "code",
   "execution_count": 9,
   "metadata": {},
   "outputs": [],
   "source": [
    "crossEntropydf = pd.DataFrame(crossEntropy, columns = ['Cross-Entropy'])"
   ]
  },
  {
   "cell_type": "code",
   "execution_count": 10,
   "metadata": {},
   "outputs": [],
   "source": [
    "os.chdir(\"/Users/Ellen/Documents/Dokumenter/DTU/7. Semester/Bachelor/CSV files\")\n",
    "crossEntropydf.to_csv('CrossEntropyCat.csv', index=False)"
   ]
  }
 ],
 "metadata": {
  "kernelspec": {
   "display_name": "Python 3",
   "language": "python",
   "name": "python3"
  },
  "language_info": {
   "codemirror_mode": {
    "name": "ipython",
    "version": 3
   },
   "file_extension": ".py",
   "mimetype": "text/x-python",
   "name": "python",
   "nbconvert_exporter": "python",
   "pygments_lexer": "ipython3",
   "version": "3.7.6"
  }
 },
 "nbformat": 4,
 "nbformat_minor": 4
}
