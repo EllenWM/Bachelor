{
 "cells": [
  {
   "cell_type": "code",
   "execution_count": 1,
   "metadata": {},
   "outputs": [],
   "source": [
    "import os\n",
    "import pandas as pd\n",
    "import numpy as np"
   ]
  },
  {
   "cell_type": "code",
   "execution_count": 2,
   "metadata": {},
   "outputs": [],
   "source": [
    "def prob(userStart, userEnd):\n",
    "\n",
    "    #read data\n",
    "    os.chdir(\"/Users/Ellen/Documents/Dokumenter/DTU/7. Semester/Bachelor\")\n",
    "    data = \"dataWNames.csv\"\n",
    "    df =  pd.read_csv(data)\n",
    "    \n",
    "    #read POI names\n",
    "    os.chdir(\"/Users/Ellen/Documents/Dokumenter/DTU/7. Semester/Bachelor/CSV files\")\n",
    "    poiNames = pd.read_csv(\"POInames.csv\")\n",
    "    \n",
    "    stops = [['home'], ['work'], ['other']]\n",
    " \n",
    "    # Create the pandas DataFrame\n",
    "    stopdf = pd.DataFrame(stops, columns = ['StopName'])\n",
    "    \n",
    "    #Names for all stops (both POI and home, work, other)\n",
    "    stopNames = pd.concat([stopdf, poiNames]).reset_index(drop=True)\n",
    "    \n",
    "    user = df.userId.unique().tolist()[userStart:userEnd]\n",
    "    \n",
    "    #initialize vector p to contain probability\n",
    "    p = np.zeros((len(user), len(stopNames)))\n",
    "    \n",
    "    for i in user:\n",
    "        userStop = df[df.userId == i]['stop2'].reset_index() #all stops for each user\n",
    "        for j, row in enumerate(stopNames.itertuples(), 0): #for loop, j starting at 0\n",
    "            stop = len(userStop[userStop.stop2 == row.StopName]) #number of stops at each stop category\n",
    "            p[user.index(i), j] = stop/len(userStop) # find probability (n(cat_i)/n(totalStops))\n",
    "            \n",
    "    return(p)"
   ]
  }
 ],
 "metadata": {
  "kernelspec": {
   "display_name": "Python 3",
   "language": "python",
   "name": "python3"
  },
  "language_info": {
   "codemirror_mode": {
    "name": "ipython",
    "version": 3
   },
   "file_extension": ".py",
   "mimetype": "text/x-python",
   "name": "python",
   "nbconvert_exporter": "python",
   "pygments_lexer": "ipython3",
   "version": "3.7.6"
  }
 },
 "nbformat": 4,
 "nbformat_minor": 4
}
