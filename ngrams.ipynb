{
 "cells": [
  {
   "cell_type": "code",
   "execution_count": 1,
   "metadata": {},
   "outputs": [],
   "source": [
    "import os\n",
    "import pandas as pd"
   ]
  },
  {
   "cell_type": "code",
   "execution_count": 2,
   "metadata": {},
   "outputs": [],
   "source": [
    "os.chdir(\"/Users/Ellen/Documents/Dokumenter/DTU/7. Semester/Bachelor\")\n",
    "\n",
    "data = \"data.csv\"\n",
    "df =  pd.read_csv(data)"
   ]
  },
  {
   "cell_type": "code",
   "execution_count": 3,
   "metadata": {},
   "outputs": [],
   "source": [
    "#create 2 new columns, 1 where name1 is included, 1 where name2 is included\n",
    "df['stop1'] = ''\n",
    "df['stop2'] = ''\n",
    "\n",
    "#assign stop_type in column stop1. If the stop is POI, the row is name1 instead of the stop_type\n",
    "df.loc[df.stop_type == 'poi', 'stop1'] = df.assign(stop1 = df['name1_fs'])\n",
    "df.loc[df.stop_type != 'poi', 'stop1'] = df.assign(stop1 = df['stop_type'])\n",
    "\n",
    "#assign stop_type in column stop2. If the stop is POI, the row is name2 instead of the stop_type\n",
    "df.loc[df.stop_type == 'poi', 'stop2'] = df.assign(stop2 = df['name2_fs'])\n",
    "df.loc[df.stop_type != 'poi', 'stop2'] = df.assign(stop2 = df['stop_type'])"
   ]
  },
  {
   "cell_type": "code",
   "execution_count": 4,
   "metadata": {},
   "outputs": [],
   "source": [
    "#save df\n",
    "df.to_csv('dataWNames.csv', index = False)"
   ]
  },
  {
   "cell_type": "code",
   "execution_count": 5,
   "metadata": {},
   "outputs": [],
   "source": [
    "os.chdir(\"/Users/Ellen/Documents/Dokumenter/DTU/7. Semester/Bachelor/CSV files\")"
   ]
  },
  {
   "cell_type": "code",
   "execution_count": 6,
   "metadata": {},
   "outputs": [],
   "source": [
    "#bigram\n",
    "stopsb = []\n",
    "stopsb1 = []\n",
    "stopsb2 = []\n",
    "userb = []\n",
    "\n",
    "for i in range(df.shape[0]-1):\n",
    "    if df['userId'].iloc[i] == df['userId'].iloc[i+1]: #if the user is the same\n",
    "        stopsb.append(df['stop_type'].iloc[i] + \",\" + df['stop_type'].iloc[i+1]) #append the stop type\n",
    "        stopsb1.append(df['stop1'].iloc[i] + \",\" + df['stop1'].iloc[i+1]) #append the stop category(name 1)\n",
    "        stopsb2.append(df['stop2'].iloc[i] + \",\" + df['stop2'].iloc[i+1]) #append the stop sub category(name 2)\n",
    "        userb.append(str(df['userId'].iloc[i])) #append user"
   ]
  },
  {
   "cell_type": "code",
   "execution_count": 7,
   "metadata": {},
   "outputs": [],
   "source": [
    "#User df\n",
    "userbdf = pd.DataFrame(userb).rename(columns={0: 'userId'})\n",
    "stopsbdf = pd.DataFrame(stopsb2).rename(columns={0: 'Stops'})"
   ]
  },
  {
   "cell_type": "code",
   "execution_count": 8,
   "metadata": {},
   "outputs": [],
   "source": [
    "#save bigram\n",
    "stopsb = pd.DataFrame(stopsb).to_csv('stop.csv', index = False)\n",
    "stopsbdf1 = pd.DataFrame(stopsb1).to_csv('stop1.csv', index = False)\n",
    "stopsbdf2 = pd.DataFrame(stopsb2).to_csv('stop2.csv', index = False)\n",
    "userStop = pd.concat([userbdf, stopsbdf], axis=1).to_csv('userBigram.csv', index = False) #save df with day with name 2"
   ]
  },
  {
   "cell_type": "code",
   "execution_count": 9,
   "metadata": {},
   "outputs": [],
   "source": [
    "#trigram within same day \n",
    "stopstri = []\n",
    "stopstri1 = []\n",
    "stopstri2 = []\n",
    "#daytri = []\n",
    "usertri = []\n",
    "\n",
    "for i in range(df.shape[0]-2):\n",
    "    if df['userId'].loc[i] == df['userId'].loc[i+2]: #if userID is the same\n",
    "        #if df['weekday'].loc[i] == df['weekday'].loc[i+1] and df['weekday'].loc[i+1] == df['weekday'].loc[i+2]: #same day\n",
    "        stopstri.append(df['stop_type'].iloc[i] + \",\" + df['stop_type'].iloc[i+1] + \",\" + df['stop_type'].iloc[i+2]) #append the stop\n",
    "        stopstri1.append(df['stop1'].iloc[i] + \",\" + df['stop1'].iloc[i+1] + \",\" + df['stop1'].iloc[i+2]) #append the stop category\n",
    "        stopstri2.append(df['stop2'].iloc[i] + \",\" + df['stop2'].iloc[i+1] + \",\" + df['stop2'].iloc[i+2]) #append the stop sub category\n",
    "        #daytri.append(str(df['weekday'].iloc[i+1])) #append the weekday\n",
    "        usertri.append(str(df['userId'].iloc[i])) #append user"
   ]
  },
  {
   "cell_type": "code",
   "execution_count": 10,
   "metadata": {},
   "outputs": [],
   "source": [
    "#daytri = pd.DataFrame(daytri).rename(columns={0: 'Day'})\n",
    "stoptridf = pd.DataFrame(stopstri2).rename(columns={0: 'Stop'})\n",
    "usertridf = pd.DataFrame(usertri).rename(columns={0: 'userId'})"
   ]
  },
  {
   "cell_type": "code",
   "execution_count": 11,
   "metadata": {},
   "outputs": [],
   "source": [
    "#Save trigram\n",
    "stopstridf = pd.DataFrame(stopstri).to_csv('trigram.csv', index = False)\n",
    "stopstridf1 = pd.DataFrame(stopstri1).to_csv('trigram1.csv', index = False)\n",
    "stopstridf2 = pd.DataFrame(stopstri2).to_csv('trigram2.csv', index = False)\n",
    "userTriStop = pd.concat([usertridf, stoptridf], axis=1).to_csv('dayStopTrigram.csv', index = False) #save df with day with name 2"
   ]
  },
  {
   "cell_type": "code",
   "execution_count": 12,
   "metadata": {},
   "outputs": [],
   "source": [
    "#tetragram within same day \n",
    "stopstetra = []\n",
    "stopstetra1 = []\n",
    "stopstetra2 = []\n",
    "#daytetra = []\n",
    "usertetra = []\n",
    "\n",
    "for i in range(df.shape[0]-3):\n",
    "    if df['userId'].loc[i] == df['userId'].loc[i+3]: #if userID is the same\n",
    "        #if df['weekday'].loc[i] == df['weekday'].loc[i+1] and df['weekday'].loc[i+1] == df['weekday'].loc[i+2] and df['weekday'].loc[i+2] == df['weekday'].loc[i+3] : #same day\n",
    "        stopstetra.append(df['stop_type'].iloc[i] + \",\" + df['stop_type'].iloc[i+1] + \",\" + df['stop_type'].iloc[i+2] + \",\" + df['stop_type'].iloc[i+3]) #append the stop\n",
    "        stopstetra1.append(df['stop1'].iloc[i] + \",\" + df['stop1'].iloc[i+1] + \",\" + df['stop1'].iloc[i+2] + \",\" + df['stop1'].iloc[i+3]) #append the stop category\n",
    "        stopstetra2.append(df['stop2'].iloc[i] + \",\" + df['stop2'].iloc[i+1] + \",\" + df['stop2'].iloc[i+2] + \",\" + df['stop2'].iloc[i+3]) #append the stop sub category\n",
    "        #daytetra.append(str(df['weekday'].iloc[i+2])) #append the weekday\n",
    "        usertetra.append(str(df['userId'].iloc[i])) #append user"
   ]
  },
  {
   "cell_type": "code",
   "execution_count": 13,
   "metadata": {},
   "outputs": [],
   "source": [
    "#daytetra = pd.DataFrame(daytetra).rename(columns={0: 'Day'})\n",
    "stoptetradf = pd.DataFrame(stopstetra2).rename(columns={0: 'Stop'})\n",
    "usertetradf = pd.DataFrame(usertetra).rename(columns={0: 'userId'})"
   ]
  },
  {
   "cell_type": "code",
   "execution_count": 14,
   "metadata": {},
   "outputs": [],
   "source": [
    "#Save tetragram\n",
    "stopstetra = pd.DataFrame(stopstetra).to_csv('tetragram.csv', index = False)\n",
    "stopstridf1 = pd.DataFrame(stopstetra1).to_csv('tetragram1.csv', index = False)\n",
    "stopstridf2 = pd.DataFrame(stopstetra2).to_csv('tetragram2.csv', index = False)\n",
    "dayTetraStop = pd.concat([usertetradf, stoptetradf], axis=1).to_csv('dayStopTetra.csv', index = False) #save df with day with name 2"
   ]
  }
 ],
 "metadata": {
  "kernelspec": {
   "display_name": "Python 3",
   "language": "python",
   "name": "python3"
  },
  "language_info": {
   "codemirror_mode": {
    "name": "ipython",
    "version": 3
   },
   "file_extension": ".py",
   "mimetype": "text/x-python",
   "name": "python",
   "nbconvert_exporter": "python",
   "pygments_lexer": "ipython3",
   "version": "3.7.6"
  }
 },
 "nbformat": 4,
 "nbformat_minor": 4
}
